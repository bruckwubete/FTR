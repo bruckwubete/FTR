{
 "cells": [
  {
   "cell_type": "code",
   "execution_count": 1,
   "id": "initial_id",
   "metadata": {
    "collapsed": true,
    "ExecuteTime": {
     "end_time": "2024-10-01T00:33:55.347573Z",
     "start_time": "2024-10-01T00:33:43.571172Z"
    }
   },
   "outputs": [
    {
     "name": "stderr",
     "output_type": "stream",
     "text": [
      "/Users/bwubete/opt/anaconda3/envs/bpa_ai_sdk_new/lib/python3.10/site-packages/sentence_transformers/cross_encoder/CrossEncoder.py:13: TqdmExperimentalWarning: Using `tqdm.autonotebook.tqdm` in notebook mode. Use `tqdm.tqdm` instead to force console mode (e.g. in jupyter console)\n",
      "  from tqdm.autonotebook import tqdm, trange\n",
      "/Users/bwubete/opt/anaconda3/envs/bpa_ai_sdk_new/lib/python3.10/site-packages/transformers/tokenization_utils_base.py:1617: FutureWarning: `clean_up_tokenization_spaces` was not set. It will be set to `True` by default. This behavior will be deprecated in transformers v4.45, and will be then set to `False` by default. For more details check this issue: https://github.com/huggingface/transformers/issues/31884\n",
      "  warnings.warn(\n"
     ]
    }
   ],
   "source": [
    "from langchain_chroma import Chroma\n",
    "from langchain_core.documents import Document\n",
    "from langchain_openai import OpenAIEmbeddings\n",
    "from langchain_huggingface import HuggingFaceEmbeddings\n",
    "\n",
    "embeddings = HuggingFaceEmbeddings(model_name=\"all-MiniLM-L6-v2\")\n",
    "\n",
    "docs = [\n",
    "    Document(\n",
    "        page_content=\"A bunch of scientists bring back dinosaurs and mayhem breaks loose\",\n",
    "        metadata={\"year\": 1993, \"rating\": 7.7, \"genre\": \"science fiction\"},\n",
    "    ),\n",
    "    Document(\n",
    "        page_content=\"Leo DiCaprio gets lost in a dream within a dream within a dream within a ...\",\n",
    "        metadata={\"year\": 2010, \"director\": \"Christopher Nolan\", \"rating\": 8.2},\n",
    "    ),\n",
    "    Document(\n",
    "        page_content=\"A psychologist / detective gets lost in a series of dreams within dreams within dreams and Inception reused the idea\",\n",
    "        metadata={\"year\": 2006, \"director\": \"Satoshi Kon\", \"rating\": 8.6},\n",
    "    ),\n",
    "    Document(\n",
    "        page_content=\"A bunch of normal-sized women are supremely wholesome and some men pine after them\",\n",
    "        metadata={\"year\": 2019, \"director\": \"Greta Gerwig\", \"rating\": 8.3},\n",
    "    ),\n",
    "    Document(\n",
    "        page_content=\"Toys come alive and have a blast doing so\",\n",
    "        metadata={\"year\": 1995, \"genre\": \"animated\"},\n",
    "    ),\n",
    "    Document(\n",
    "        page_content=\"Three men walk into the Zone, three men walk out of the Zone\",\n",
    "        metadata={\n",
    "            \"year\": 1979,\n",
    "            \"director\": \"Andrei Tarkovsky\",\n",
    "            \"genre\": \"thriller\",\n",
    "            \"rating\": 9.9,\n",
    "        },\n",
    "    ),\n",
    "]\n",
    "vectorstore = Chroma.from_documents(docs, embedding=embeddings)"
   ]
  },
  {
   "cell_type": "code",
   "outputs": [],
   "source": [
    "from langchain.chains.query_constructor.base import AttributeInfo\n",
    "from langchain.retrievers.self_query.base import SelfQueryRetriever\n",
    "from langchain_openai import ChatOpenAI\n",
    "from llm_model import CienaGPTChatModel\n",
    "\n",
    "metadata_field_info = [\n",
    "    AttributeInfo(\n",
    "        name=\"genre\",\n",
    "        description=\"The genre of the movie. One of ['science fiction', 'comedy', 'drama', 'thriller', 'romance', 'action', 'animated']\",\n",
    "        type=\"string\",\n",
    "    ),\n",
    "    AttributeInfo(\n",
    "        name=\"year\",\n",
    "        description=\"The year the movie was released\",\n",
    "        type=\"integer\",\n",
    "    ),\n",
    "    AttributeInfo(\n",
    "        name=\"director\",\n",
    "        description=\"The name of the movie director\",\n",
    "        type=\"string\",\n",
    "    ),\n",
    "    AttributeInfo(\n",
    "        name=\"rating\", description=\"A 1-10 rating for the movie\", type=\"float\"\n",
    "    ),\n",
    "]\n",
    "document_content_description = \"Brief summary of a movie\"\n",
    "llm = CienaGPTChatModel(model_name='test-model', model_id = '5', base_address='https://gptapi.ciena.com/', okta_domain='ciena.okta.com', okta_custom_scope='api', client_secret='uNU1c9Vl01WfkBdQDUivZr0O1pR3qxJpe5js3d1PJhwqGO63WEvqvOXgBux9dRyi', client_id='0oa1x6yhddqyoeoTY0h8')\n",
    "retriever = SelfQueryRetriever.from_llm(\n",
    "    llm,\n",
    "    vectorstore,\n",
    "    document_content_description,\n",
    "    metadata_field_info,\n",
    ")"
   ],
   "metadata": {
    "collapsed": false,
    "ExecuteTime": {
     "end_time": "2024-10-01T00:33:56.596777Z",
     "start_time": "2024-10-01T00:33:55.352774Z"
    }
   },
   "id": "bee542e99713c2f4",
   "execution_count": 2
  },
  {
   "cell_type": "code",
   "outputs": [
    {
     "name": "stdout",
     "output_type": "stream",
     "text": [
      "success: 200\n",
      "{'result': {'id': 0, 'oktaUserId': None, 'openAiId': 'chatcmpl-ADL9NLcQEUnjJOwmDnpYvHSpIAcWz', 'model': 'gpt-4o-2024-05-13', 'title': None, 'choices': [{'message': {'content': '```json\\n{\\n    \"query\": \"toys\",\\n    \"filter\": \"and(gt(\\\\\"year\\\\\", 1990), lt(\\\\\"year\\\\\", 2005), eq(\\\\\"genre\\\\\", \\\\\"animated\\\\\"))\"\\n}\\n```', 'role': 'assistant', 'created': '0001-01-01T00:00:00'}, 'index': None, 'finishReason': 'Stop'}], 'toolCalls': [], 'completionUsage': {'id': 0, 'completionTokens': 45, 'promptTokens': 1042, 'totalTokens': 1087}, 'created': '0001-01-01T00:00:00'}, 'isSuccess': True, 'errorMessage': '', 'isNewConversation': True}\n"
     ]
    },
    {
     "data": {
      "text/plain": "[Document(metadata={'genre': 'animated', 'year': 1995}, page_content='Toys come alive and have a blast doing so')]"
     },
     "execution_count": 4,
     "metadata": {},
     "output_type": "execute_result"
    }
   ],
   "source": [
    "# This example specifies a query and composite filter\n",
    "retriever.invoke(\n",
    "    \"What's a movie after 1990 but before 2005 that's all about toys, and preferably is animated\"\n",
    ")"
   ],
   "metadata": {
    "collapsed": false,
    "ExecuteTime": {
     "end_time": "2024-10-01T00:35:34.879253Z",
     "start_time": "2024-10-01T00:35:25.292226Z"
    }
   },
   "id": "3539d0c34fdb11c3",
   "execution_count": 4
  },
  {
   "cell_type": "code",
   "outputs": [],
   "source": [
    "from langchain.chains import create_retrieval_chain\n",
    "from langchain.chains.combine_documents import create_stuff_documents_chain\n",
    "from langchain_core.prompts import ChatPromptTemplate\n",
    "# prompt = ChatPromptTemplate.from_messages([\n",
    "#     SystemMessagePromptTemplate.from_message(\"\"\"You are an assistant for question-answering tasks. Use the following pieces of retrieved context to answer the question. If you don't know the answer, just say that you don't know. Use three sentences maximum and keep the answer concise. Context: {context} \"\"\"),\n",
    "#     HumanMessagePromptTemplate.from_message(\"{question}\")\n",
    "# ])\n",
    "system_prompt = (\n",
    "    \"Use the given context to answer the question. \"\n",
    "    \"If you don't know the answer, say you don't know. \"\n",
    "    \"Use three sentence maximum and keep the answer concise. \"\n",
    "    \"Context: {context}\"\n",
    ")\n",
    "prompt = ChatPromptTemplate.from_messages(\n",
    "    [\n",
    "        (\"system\", system_prompt),\n",
    "        (\"human\", \"{input}\"),\n",
    "    ]\n",
    ")\n",
    "# llm = CienaGPTChatModel(model_name='test-model', model_id = '5', base_address='https://gptapi.ciena.com/', okta_domain='ciena.okta.com', okta_custom_scope='api', client_secret='uNU1c9Vl01WfkBdQDUivZr0O1pR3qxJpe5js3d1PJhwqGO63WEvqvOXgBux9dRyi', client_id='0oa1x6yhddqyoeoTY0h8')\n",
    "question_answer_chain = create_stuff_documents_chain(llm, prompt)\n",
    "chain = create_retrieval_chain(retriever, question_answer_chain)"
   ],
   "metadata": {
    "collapsed": false,
    "ExecuteTime": {
     "end_time": "2024-10-01T00:44:26.996679Z",
     "start_time": "2024-10-01T00:44:26.951537Z"
    }
   },
   "id": "8542da917db49254",
   "execution_count": 5
  },
  {
   "cell_type": "code",
   "outputs": [
    {
     "name": "stdout",
     "output_type": "stream",
     "text": [
      "success: 200\n",
      "{'result': {'id': 0, 'oktaUserId': None, 'openAiId': 'chatcmpl-ADLLLTN8Hz63uCZhxvZcd6U3j1W8w', 'model': 'gpt-4o-2024-05-13', 'title': None, 'choices': [{'message': {'content': '```json\\n{\\n    \"query\": \"dinosaurs\",\\n    \"filter\": \"and(gt(\\\\\"year\\\\\", 1990), lt(\\\\\"year\\\\\", 2005))\"\\n}\\n```', 'role': 'assistant', 'created': '0001-01-01T00:00:00'}, 'index': None, 'finishReason': 'Stop'}], 'toolCalls': [], 'completionUsage': {'id': 0, 'completionTokens': 37, 'promptTokens': 1050, 'totalTokens': 1087}, 'created': '0001-01-01T00:00:00'}, 'isSuccess': True, 'errorMessage': '', 'isNewConversation': True}\n",
      "success: 200\n",
      "{'result': {'id': 0, 'oktaUserId': None, 'openAiId': 'chatcmpl-ADLLQOb70d40TDv4LyTg9TUonLXOI', 'model': 'gpt-4o-2024-05-13', 'title': None, 'choices': [{'message': {'content': 'Yes, \"Jurassic Park,\" released in 1993, is a movie about dinosaurs where scientists bring them back to life, leading to chaos. Directed by Steven Spielberg, it is based on Michael Crichton\\'s novel and became a significant cultural phenomenon.', 'role': 'assistant', 'created': '0001-01-01T00:00:00'}, 'index': None, 'finishReason': 'Stop'}], 'toolCalls': [], 'completionUsage': {'id': 0, 'completionTokens': 51, 'promptTokens': 202, 'totalTokens': 253}, 'created': '0001-01-01T00:00:00'}, 'isSuccess': True, 'errorMessage': '', 'isNewConversation': True}\n"
     ]
    },
    {
     "data": {
      "text/plain": "{'input': \"Is there a movie after 1990 but before 2005 that's all about dinosaurs? If not, give me more information about such a movie\",\n 'context': [Document(metadata={'genre': 'science fiction', 'rating': 7.7, 'year': 1993}, page_content='A bunch of scientists bring back dinosaurs and mayhem breaks loose'),\n  Document(metadata={'genre': 'animated', 'year': 1995}, page_content='Toys come alive and have a blast doing so')],\n 'answer': 'Yes, \"Jurassic Park,\" released in 1993, is a movie about dinosaurs where scientists bring them back to life, leading to chaos. Directed by Steven Spielberg, it is based on Michael Crichton\\'s novel and became a significant cultural phenomenon.'}"
     },
     "execution_count": 9,
     "metadata": {},
     "output_type": "execute_result"
    }
   ],
   "source": [
    "chain.invoke({'input': \"Is there a movie after 1990 but before 2005 that's all about dinosaurs? If not, give me more information about such a movie\"})"
   ],
   "metadata": {
    "collapsed": false,
    "ExecuteTime": {
     "end_time": "2024-10-01T00:47:57.285869Z",
     "start_time": "2024-10-01T00:47:47.928407Z"
    }
   },
   "id": "24cd8c21e097b055",
   "execution_count": 9
  },
  {
   "cell_type": "code",
   "outputs": [],
   "source": [],
   "metadata": {
    "collapsed": false
   },
   "id": "41d1e0966e06c64a"
  }
 ],
 "metadata": {
  "kernelspec": {
   "display_name": "Python 3",
   "language": "python",
   "name": "python3"
  },
  "language_info": {
   "codemirror_mode": {
    "name": "ipython",
    "version": 2
   },
   "file_extension": ".py",
   "mimetype": "text/x-python",
   "name": "python",
   "nbconvert_exporter": "python",
   "pygments_lexer": "ipython2",
   "version": "2.7.6"
  }
 },
 "nbformat": 4,
 "nbformat_minor": 5
}
