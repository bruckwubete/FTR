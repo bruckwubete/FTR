{
 "cells": [
  {
   "cell_type": "code",
   "outputs": [],
   "source": [
    "# https://dev.to/rutamstwt/langchain-data-protection-op9"
   ],
   "metadata": {
    "collapsed": false
   },
   "id": "44d3f8a1a8cbd8b2"
  },
  {
   "cell_type": "code",
   "outputs": [],
   "source": [
    "from langchain_experimental.data_anonymizer import PresidioReversibleAnonymizer\n",
    "import re\n",
    "\n",
    "anonymizer = PresidioReversibleAnonymizer(\n",
    "    add_default_faker_operators=False,\n",
    ")"
   ],
   "metadata": {
    "collapsed": true,
    "ExecuteTime": {
     "end_time": "2024-10-01T14:46:25.900176Z",
     "start_time": "2024-10-01T14:46:20.087806Z"
    }
   },
   "id": "initial_id",
   "execution_count": 3
  },
  {
   "cell_type": "code",
   "outputs": [
    {
     "name": "stdout",
     "output_type": "stream",
     "text": [
      "Date: \u001B[31m<DATE_TIME>\u001B[0m\n",
      " Witness: \u001B[31m<PERSON>\u001B[0m\n",
      " Subject: Testimony Regarding the Loss of Wallet\n",
      "\n",
      " Testimony Content:\n",
      "\n",
      " Hello Officer,\n",
      "\n",
      " My name is \u001B[31m<PERSON>\u001B[0m and on \u001B[31m<DATE_TIME>\u001B[0m, my wallet was stolen in the vicinity of \u001B[31m<LOCATION>\u001B[0m during a bike trip. This wallet contains some very important things to me.\n",
      "\n",
      " Firstly, the wallet contains my credit card with number \u001B[31m<CREDIT_CARD>\u001B[0m, which is registered under my name and linked to my bank account, \u001B[31m<IBAN_CODE>\u001B[0m.\n",
      "\n",
      " Additionally, the wallet had a driver's license - DL No: \u001B[31m<US_DRIVER_LICENSE>\u001B[0m issued to my name. It also houses my Social Security Number, \u001B[31m<US_SSN>\u001B[0m.\n",
      "\n",
      " What's more, I had my polish identity card there, with the number ABC123456.\n",
      "\n",
      " I would like this data to be secured and protected in all possible ways. I believe It was stolen at \u001B[31m<DATE_TIME_2>\u001B[0m.\n",
      "\n",
      " In case any information arises regarding my wallet, please reach out to me on my phone number, \u001B[31m<PHONE_NUMBER>\u001B[0m, or through my personal email, \u001B[31m<EMAIL_ADDRESS>\u001B[0m.\n",
      "\n",
      " Please consider this information to be highly confidential and respect my privacy.\n",
      "\n",
      " The bank has been informed about the stolen credit card and necessary actions have been taken from their end. They will be reachable at their official email, \u001B[31m<EMAIL_ADDRESS_2>\u001B[0m.\n",
      " My representative there is \u001B[31m<PERSON_2>\u001B[0m (her business phone: \u001B[31m<UK_NHS>\u001B[0m).\n",
      "\n",
      " Thank you for your assistance,\n",
      "\n",
      " \u001B[31m<PERSON>\u001B[0m\n"
     ]
    }
   ],
   "source": [
    "from langchain_core.documents import Document\n",
    "\n",
    "def print_colored_pii(string):\n",
    "    colored_string = re.sub(\n",
    "        r\"(<[^>]*>)\", lambda m: \"\\033[31m\" + m.group(1) + \"\\033[0m\", string\n",
    "    )\n",
    "    print(colored_string)\n",
    "\n",
    "document_content = \"\"\"Date: October 19, 2021\n",
    " Witness: John Doe\n",
    " Subject: Testimony Regarding the Loss of Wallet\n",
    "\n",
    " Testimony Content:\n",
    "\n",
    " Hello Officer,\n",
    "\n",
    " My name is John Doe and on October 19, 2021, my wallet was stolen in the vicinity of Kilmarnock during a bike trip. This wallet contains some very important things to me.\n",
    "\n",
    " Firstly, the wallet contains my credit card with number 4111 1111 1111 1111, which is registered under my name and linked to my bank account, PL61109010140000071219812874.\n",
    "\n",
    " Additionally, the wallet had a driver's license - DL No: 999000680 issued to my name. It also houses my Social Security Number, 602-76-4532.\n",
    "\n",
    " What's more, I had my polish identity card there, with the number ABC123456.\n",
    "\n",
    " I would like this data to be secured and protected in all possible ways. I believe It was stolen at 9:30 AM.\n",
    "\n",
    " In case any information arises regarding my wallet, please reach out to me on my phone number, 999-888-7777, or through my personal email, johndoe@example.com.\n",
    "\n",
    " Please consider this information to be highly confidential and respect my privacy.\n",
    "\n",
    " The bank has been informed about the stolen credit card and necessary actions have been taken from their end. They will be reachable at their official email, support@bankname.com.\n",
    " My representative there is Victoria Cherry (her business phone: 987-654-3210).\n",
    "\n",
    " Thank you for your assistance,\n",
    "\n",
    " John Doe\"\"\"\n",
    "\n",
    "documents = [Document(page_content=document_content)]\n",
    "\n",
    "anonymized_text = anonymizer.anonymize(document_content)\n",
    "print_colored_pii(anonymized_text)"
   ],
   "metadata": {
    "collapsed": false,
    "ExecuteTime": {
     "end_time": "2024-10-01T14:47:04.569597Z",
     "start_time": "2024-10-01T14:47:03.279428Z"
    }
   },
   "id": "5a9bdb1882d7aefd",
   "execution_count": 4
  },
  {
   "cell_type": "code",
   "outputs": [
    {
     "name": "stdout",
     "output_type": "stream",
     "text": [
      "{'CREDIT_CARD': {'<CREDIT_CARD>': '4111 1111 1111 1111'},\n",
      " 'DATE_TIME': {'<DATE_TIME>': 'October 19, 2021', '<DATE_TIME_2>': '9:30 AM'},\n",
      " 'EMAIL_ADDRESS': {'<EMAIL_ADDRESS>': 'johndoe@example.com',\n",
      "                   '<EMAIL_ADDRESS_2>': 'support@bankname.com'},\n",
      " 'IBAN_CODE': {'<IBAN_CODE>': 'PL61109010140000071219812874'},\n",
      " 'LOCATION': {'<LOCATION>': 'Kilmarnock'},\n",
      " 'PERSON': {'<PERSON>': 'John Doe', '<PERSON_2>': 'Victoria Cherry'},\n",
      " 'PHONE_NUMBER': {'<PHONE_NUMBER>': '999-888-7777'},\n",
      " 'UK_NHS': {'<UK_NHS>': '987-654-3210'},\n",
      " 'US_DRIVER_LICENSE': {'<US_DRIVER_LICENSE>': '999000680'},\n",
      " 'US_SSN': {'<US_SSN>': '602-76-4532'}}\n"
     ]
    }
   ],
   "source": [
    "from pprint import pprint\n",
    "\n",
    "pprint(anonymizer.deanonymizer_mapping)"
   ],
   "metadata": {
    "collapsed": false,
    "ExecuteTime": {
     "end_time": "2024-10-01T14:47:13.367318Z",
     "start_time": "2024-10-01T14:47:13.361674Z"
    }
   },
   "id": "83734524ea7c9200",
   "execution_count": 5
  },
  {
   "cell_type": "code",
   "outputs": [
    {
     "name": "stdout",
     "output_type": "stream",
     "text": [
      "Date: \u001B[31m<DATE_TIME>\u001B[0m\n",
      " Witness: \u001B[31m<PERSON>\u001B[0m\n",
      " Subject: Testimony Regarding the Loss of Wallet\n",
      "\n",
      " Testimony Content:\n",
      "\n",
      " Hello Officer,\n",
      "\n",
      " My name is \u001B[31m<PERSON>\u001B[0m and on \u001B[31m<DATE_TIME>\u001B[0m, my wallet was stolen in the vicinity of \u001B[31m<LOCATION>\u001B[0m during a bike trip. This wallet contains some very important things to me.\n",
      "\n",
      " Firstly, the wallet contains my credit card with number \u001B[31m<CREDIT_CARD>\u001B[0m, which is registered under my name and linked to my bank account, \u001B[31m<IBAN_CODE>\u001B[0m.\n",
      "\n",
      " Additionally, the wallet had a driver's license - DL No: \u001B[31m<US_DRIVER_LICENSE>\u001B[0m issued to my name. It also houses my Social Security Number, \u001B[31m<US_SSN>\u001B[0m.\n",
      "\n",
      " What's more, I had my polish identity card there, with the number \u001B[31m<POLISH_ID>\u001B[0m.\n",
      "\n",
      " I would like this data to be secured and protected in all possible ways. I believe It was stolen at \u001B[31m<TIME>\u001B[0m.\n",
      "\n",
      " In case any information arises regarding my wallet, please reach out to me on my phone number, \u001B[31m<PHONE_NUMBER>\u001B[0m, or through my personal email, \u001B[31m<EMAIL_ADDRESS>\u001B[0m.\n",
      "\n",
      " Please consider this information to be highly confidential and respect my privacy.\n",
      "\n",
      " The bank has been informed about the stolen credit card and necessary actions have been taken from their end. They will be reachable at their official email, \u001B[31m<EMAIL_ADDRESS_2>\u001B[0m.\n",
      " My representative there is \u001B[31m<PERSON_2>\u001B[0m (her business phone: \u001B[31m<UK_NHS>\u001B[0m).\n",
      "\n",
      " Thank you for your assistance,\n",
      "\n",
      " \u001B[31m<PERSON>\u001B[0m\n"
     ]
    }
   ],
   "source": [
    "from presidio_analyzer import Pattern, PatternRecognizer\n",
    "\n",
    "polish_id_pattern = Pattern(\n",
    "    name=\"polish_id_pattern\",\n",
    "    regex=\"[A-Z]{3}\\d{6}\",\n",
    "    score=1,\n",
    ")\n",
    "time_pattern = Pattern(\n",
    "    name=\"time_pattern\",\n",
    "    regex=\"(1[0-2]|0?[1-9]):[0-5][0-9] (AM|PM)\",\n",
    "    score=1,\n",
    ")\n",
    "\n",
    "polish_id_recognizer = PatternRecognizer(\n",
    "    supported_entity=\"POLISH_ID\", patterns=[polish_id_pattern]\n",
    ")\n",
    "time_recognizer = PatternRecognizer(supported_entity=\"TIME\", patterns=[time_pattern])\n",
    "\n",
    "anonymizer.add_recognizer(polish_id_recognizer)\n",
    "anonymizer.add_recognizer(time_recognizer)\n",
    "\n",
    "# Note that our anonymization instance remembers previously detected and anonymized values, \n",
    "# including those that were not detected correctly (e.g., \"9:30 AM\" taken as DATE_TIME). So it's worth removing this value, or resetting the entire mapping now that our recognizers have been updated:\n",
    "anonymizer.reset_deanonymizer_mapping()\n",
    "print_colored_pii(anonymizer.anonymize(document_content))"
   ],
   "metadata": {
    "collapsed": false,
    "ExecuteTime": {
     "end_time": "2024-10-01T14:47:23.397797Z",
     "start_time": "2024-10-01T14:47:23.336103Z"
    }
   },
   "id": "97ab26a714fbcfbe",
   "execution_count": 6
  },
  {
   "cell_type": "code",
   "outputs": [
    {
     "name": "stdout",
     "output_type": "stream",
     "text": [
      "Date: 1986-11-02\n",
      " Witness: Timothy Koch\n",
      " Subject: Testimony Regarding the Loss of Wallet\n",
      "\n",
      " Testimony Content:\n",
      "\n",
      " Hello Officer,\n",
      "\n",
      " My name is Timothy Koch and on 1986-11-02, my wallet was stolen in the vicinity of New Rita during a bike trip. This wallet contains some very important things to me.\n",
      "\n",
      " Firstly, the wallet contains my credit card with number 6584801845146275, which is registered under my name and linked to my bank account, GB78GSWK37672423884969.\n",
      "\n",
      " Additionally, the wallet had a driver's license - DL No: 781802744 issued to my name. It also houses my Social Security Number, 687-35-1170.\n",
      "\n",
      " What's more, I had my polish identity card there, with the number \u001B[31m<POLISH_ID>\u001B[0m.\n",
      "\n",
      " I would like this data to be secured and protected in all possible ways. I believe It was stolen at \u001B[31m<TIME>\u001B[0m.\n",
      "\n",
      " In case any information arises regarding my wallet, please reach out to me on my phone number, 7344131647, or through my personal email, jamesmichael@example.com.\n",
      "\n",
      " Please consider this information to be highly confidential and respect my privacy.\n",
      "\n",
      " The bank has been informed about the stolen credit card and necessary actions have been taken from their end. They will be reachable at their official email, blakeerik@example.com.\n",
      " My representative there is Cristian Santos (her business phone: 2812140441).\n",
      "\n",
      " Thank you for your assistance,\n",
      "\n",
      " Timothy Koch\n"
     ]
    }
   ],
   "source": [
    "anonymizer = PresidioReversibleAnonymizer(\n",
    "    add_default_faker_operators=True,\n",
    "    # Faker seed is used here to make sure the same fake data is generated for the test purposes\n",
    "    # In production, it is recommended to remove the faker_seed parameter (it will default to None)\n",
    "    faker_seed=42,\n",
    ")\n",
    "\n",
    "anonymizer.add_recognizer(polish_id_recognizer)\n",
    "anonymizer.add_recognizer(time_recognizer)\n",
    "\n",
    "print_colored_pii(anonymizer.anonymize(document_content))"
   ],
   "metadata": {
    "collapsed": false,
    "ExecuteTime": {
     "end_time": "2024-10-01T14:48:17.576081Z",
     "start_time": "2024-10-01T14:48:14.918180Z"
    }
   },
   "id": "9f9ec16ac62bdad9",
   "execution_count": 7
  },
  {
   "cell_type": "code",
   "outputs": [],
   "source": [
    "from faker import Faker\n",
    "from presidio_anonymizer.entities import OperatorConfig\n",
    "\n",
    "fake = Faker()\n",
    "\n",
    "def fake_polish_id(_=None):\n",
    "    \"\"\" Example output: 'VTC592627'\"\"\"\n",
    "    return fake.bothify(text=\"???######\").upper()\n",
    "\n",
    "def fake_time(_=None):\n",
    "    \"\"\" Example output: '03:14 PM'\"\"\"\n",
    "    return fake.time(pattern=\"%I:%M %p\")\n",
    "\n",
    "new_operators = {\n",
    "    \"POLISH_ID\": OperatorConfig(\"custom\", {\"lambda\": fake_polish_id}),\n",
    "    \"TIME\": OperatorConfig(\"custom\", {\"lambda\": fake_time}),\n",
    "}\n",
    "\n",
    "anonymizer.add_operators(new_operators)"
   ],
   "metadata": {
    "collapsed": false,
    "ExecuteTime": {
     "end_time": "2024-10-01T14:48:47.246910Z",
     "start_time": "2024-10-01T14:48:47.143182Z"
    }
   },
   "id": "333b5bba962cbc30",
   "execution_count": 8
  },
  {
   "cell_type": "code",
   "outputs": [
    {
     "name": "stdout",
     "output_type": "stream",
     "text": [
      "Date: 1981-09-02\n",
      " Witness: Zachary Ferrell\n",
      " Subject: Testimony Regarding the Loss of Wallet\n",
      "\n",
      " Testimony Content:\n",
      "\n",
      " Hello Officer,\n",
      "\n",
      " My name is Zachary Ferrell and on 1981-09-02, my wallet was stolen in the vicinity of South Dianeshire during a bike trip. This wallet contains some very important things to me.\n",
      "\n",
      " Firstly, the wallet contains my credit card with number 213108121913614, which is registered under my name and linked to my bank account, GB17DBUR01326773602606.\n",
      "\n",
      " Additionally, the wallet had a driver's license - DL No: 532311310 issued to my name. It also houses my Social Security Number, 690-84-1613.\n",
      "\n",
      " What's more, I had my polish identity card there, with the number FOM313304.\n",
      "\n",
      " I would like this data to be secured and protected in all possible ways. I believe It was stolen at 03:19 AM.\n",
      "\n",
      " In case any information arises regarding my wallet, please reach out to me on my phone number, 876.931.1656, or through my personal email, briannasmith@example.net.\n",
      "\n",
      " Please consider this information to be highly confidential and respect my privacy.\n",
      "\n",
      " The bank has been informed about the stolen credit card and necessary actions have been taken from their end. They will be reachable at their official email, samuel87@example.org.\n",
      " My representative there is Joshua Blair (her business phone: 3361388464).\n",
      "\n",
      " Thank you for your assistance,\n",
      "\n",
      " Zachary Ferrell\n"
     ]
    }
   ],
   "source": [
    "anonymizer.reset_deanonymizer_mapping()\n",
    "print_colored_pii(anonymizer.anonymize(document_content))"
   ],
   "metadata": {
    "collapsed": false,
    "ExecuteTime": {
     "end_time": "2024-10-01T14:48:53.896887Z",
     "start_time": "2024-10-01T14:48:53.836025Z"
    }
   },
   "id": "ee9de92a7b63e1b6",
   "execution_count": 9
  },
  {
   "cell_type": "code",
   "outputs": [
    {
     "ename": "OpenAIError",
     "evalue": "The api_key client option must be set either by passing api_key to the client or by setting the OPENAI_API_KEY environment variable",
     "output_type": "error",
     "traceback": [
      "\u001B[0;31m---------------------------------------------------------------------------\u001B[0m",
      "\u001B[0;31mOpenAIError\u001B[0m                               Traceback (most recent call last)",
      "Cell \u001B[0;32mIn[10], line 16\u001B[0m\n\u001B[1;32m     13\u001B[0m chunks \u001B[38;5;241m=\u001B[39m text_splitter\u001B[38;5;241m.\u001B[39msplit_documents(documents)\n\u001B[1;32m     15\u001B[0m \u001B[38;5;66;03m# Index the chunks (using OpenAI embeddings, since the data is already anonymized)\u001B[39;00m\n\u001B[0;32m---> 16\u001B[0m embeddings \u001B[38;5;241m=\u001B[39m \u001B[43mOpenAIEmbeddings\u001B[49m\u001B[43m(\u001B[49m\u001B[43m)\u001B[49m\n\u001B[1;32m     17\u001B[0m docsearch \u001B[38;5;241m=\u001B[39m FAISS\u001B[38;5;241m.\u001B[39mfrom_documents(chunks, embeddings)\n\u001B[1;32m     18\u001B[0m retriever \u001B[38;5;241m=\u001B[39m docsearch\u001B[38;5;241m.\u001B[39mas_retriever()\n",
      "    \u001B[0;31m[... skipping hidden 1 frame]\u001B[0m\n",
      "File \u001B[0;32m~/opt/anaconda3/envs/bpa_ai_sdk_new/lib/python3.10/site-packages/langchain_openai/embeddings/base.py:338\u001B[0m, in \u001B[0;36mOpenAIEmbeddings.validate_environment\u001B[0;34m(self)\u001B[0m\n\u001B[1;32m    336\u001B[0m         \u001B[38;5;28mself\u001B[39m\u001B[38;5;241m.\u001B[39mhttp_client \u001B[38;5;241m=\u001B[39m httpx\u001B[38;5;241m.\u001B[39mClient(proxy\u001B[38;5;241m=\u001B[39m\u001B[38;5;28mself\u001B[39m\u001B[38;5;241m.\u001B[39mopenai_proxy)\n\u001B[1;32m    337\u001B[0m     sync_specific \u001B[38;5;241m=\u001B[39m {\u001B[38;5;124m\"\u001B[39m\u001B[38;5;124mhttp_client\u001B[39m\u001B[38;5;124m\"\u001B[39m: \u001B[38;5;28mself\u001B[39m\u001B[38;5;241m.\u001B[39mhttp_client}\n\u001B[0;32m--> 338\u001B[0m     \u001B[38;5;28mself\u001B[39m\u001B[38;5;241m.\u001B[39mclient \u001B[38;5;241m=\u001B[39m \u001B[43mopenai\u001B[49m\u001B[38;5;241;43m.\u001B[39;49m\u001B[43mOpenAI\u001B[49m\u001B[43m(\u001B[49m\u001B[38;5;241;43m*\u001B[39;49m\u001B[38;5;241;43m*\u001B[39;49m\u001B[43mclient_params\u001B[49m\u001B[43m,\u001B[49m\u001B[43m \u001B[49m\u001B[38;5;241;43m*\u001B[39;49m\u001B[38;5;241;43m*\u001B[39;49m\u001B[43msync_specific\u001B[49m\u001B[43m)\u001B[49m\u001B[38;5;241m.\u001B[39membeddings  \u001B[38;5;66;03m# type: ignore[arg-type]\u001B[39;00m\n\u001B[1;32m    339\u001B[0m \u001B[38;5;28;01mif\u001B[39;00m \u001B[38;5;129;01mnot\u001B[39;00m \u001B[38;5;28mself\u001B[39m\u001B[38;5;241m.\u001B[39masync_client:\n\u001B[1;32m    340\u001B[0m     \u001B[38;5;28;01mif\u001B[39;00m \u001B[38;5;28mself\u001B[39m\u001B[38;5;241m.\u001B[39mopenai_proxy \u001B[38;5;129;01mand\u001B[39;00m \u001B[38;5;129;01mnot\u001B[39;00m \u001B[38;5;28mself\u001B[39m\u001B[38;5;241m.\u001B[39mhttp_async_client:\n",
      "File \u001B[0;32m~/opt/anaconda3/envs/bpa_ai_sdk_new/lib/python3.10/site-packages/openai/_client.py:105\u001B[0m, in \u001B[0;36mOpenAI.__init__\u001B[0;34m(self, api_key, organization, project, base_url, timeout, max_retries, default_headers, default_query, http_client, _strict_response_validation)\u001B[0m\n\u001B[1;32m    103\u001B[0m     api_key \u001B[38;5;241m=\u001B[39m os\u001B[38;5;241m.\u001B[39menviron\u001B[38;5;241m.\u001B[39mget(\u001B[38;5;124m\"\u001B[39m\u001B[38;5;124mOPENAI_API_KEY\u001B[39m\u001B[38;5;124m\"\u001B[39m)\n\u001B[1;32m    104\u001B[0m \u001B[38;5;28;01mif\u001B[39;00m api_key \u001B[38;5;129;01mis\u001B[39;00m \u001B[38;5;28;01mNone\u001B[39;00m:\n\u001B[0;32m--> 105\u001B[0m     \u001B[38;5;28;01mraise\u001B[39;00m OpenAIError(\n\u001B[1;32m    106\u001B[0m         \u001B[38;5;124m\"\u001B[39m\u001B[38;5;124mThe api_key client option must be set either by passing api_key to the client or by setting the OPENAI_API_KEY environment variable\u001B[39m\u001B[38;5;124m\"\u001B[39m\n\u001B[1;32m    107\u001B[0m     )\n\u001B[1;32m    108\u001B[0m \u001B[38;5;28mself\u001B[39m\u001B[38;5;241m.\u001B[39mapi_key \u001B[38;5;241m=\u001B[39m api_key\n\u001B[1;32m    110\u001B[0m \u001B[38;5;28;01mif\u001B[39;00m organization \u001B[38;5;129;01mis\u001B[39;00m \u001B[38;5;28;01mNone\u001B[39;00m:\n",
      "\u001B[0;31mOpenAIError\u001B[0m: The api_key client option must be set either by passing api_key to the client or by setting the OPENAI_API_KEY environment variable"
     ]
    }
   ],
   "source": [
    "from langchain_core.documents import Document\n",
    "from langchain_community.vectorstores import FAISS\n",
    "from langchain_openai import OpenAIEmbeddings\n",
    "from langchain_text_splitters import RecursiveCharacterTextSplitter\n",
    "\n",
    "# Load and anonymize the data\n",
    "documents = [Document(page_content=document_content)]\n",
    "for doc in documents:\n",
    "    doc.page_content = anonymizer.anonymize(doc.page_content)\n",
    "\n",
    "# Split the documents into chunks\n",
    "text_splitter = RecursiveCharacterTextSplitter(chunk_size=1000, chunk_overlap=100)\n",
    "chunks = text_splitter.split_documents(documents)\n",
    "\n",
    "# Index the chunks (using OpenAI embeddings, since the data is already anonymized)\n",
    "embeddings = OpenAIEmbeddings()\n",
    "docsearch = FAISS.from_documents(chunks, embeddings)\n",
    "retriever = docsearch.as_retriever()\n",
    "\n",
    "# Create the anonymizer chain\n",
    "from langchain_core.output_parsers import StrOutputParser\n",
    "from langchain_core.prompts import ChatPromptTemplate\n",
    "from langchain_core.runnables import RunnableLambda, RunnableParallel, RunnablePassthrough\n",
    "from langchain_openai import ChatOpenAI\n",
    "\n",
    "template = \"\"\"Answer the question based only on the following context: {context}\n",
    "Question: {anonymized_question}\n",
    "\"\"\"\n",
    "prompt = ChatPromptTemplate.from_template(template)\n",
    "model = ChatOpenAI(temperature=0.3)\n",
    "_inputs = RunnableParallel(\n",
    "    question=RunnablePassthrough(),\n",
    "    anonymized_question=RunnableLambda(anonymizer.anonymize),\n",
    ")\n",
    "anonymizer_chain = (\n",
    "        _inputs\n",
    "        | {\n",
    "            \"context\": itemgetter(\"anonymized_question\") | retriever,\n",
    "            \"anonymized_question\": itemgetter(\"anonymized_question\"),\n",
    "        }\n",
    "        | prompt\n",
    "        | model\n",
    "        | StrOutputParser()\n",
    ")\n",
    "anonymizer_chain.invoke(\"Where did the theft of the wallet occur, at what time, and who was it stolen from?\")\n",
    "# 'The theft of the wallet occurred in the vicinity of New Rita during a bike trip. It was stolen from Brian Cox DVM. The time of the theft was 02:22 AM.'\n",
    "\n",
    "# Add deanonymization step to the chain\n",
    "chain_with_deanonymization = anonymizer_chain | RunnableLambda(anonymizer.deanonymize)\n",
    "\n",
    "print(chain_with_deanonymization.invoke(\"Where did the theft of the wallet occur, at what time, and who was it stolen from?\"))\n",
    "# The theft of the wallet occurred in the vicinity of Kilmarnock during a bike trip. It was stolen from John Doe. The time of the theft was 9:30 AM.\n",
    "print(chain_with_deanonymization.invoke(\"What was the content of the wallet in detail?\"))\n",
    "# The content of the wallet included a credit card with the number 4111 1111 1111 1111, registered under the name of John Doe and linked to the bank account PL61109010140000071219812874. It also contained a driver's license with the number 999000680 issued to John Doe, as well as his Social Security Number 602-76-4532. Additionally, the wallet had a Polish identity card with the number ABC123456.\n",
    "print(chain_with_deanonymization.invoke(\"Whose phone number is it: 999-888-7777?\"))\n",
    "# The phone number 999-888-7777 belongs to John Doe."
   ],
   "metadata": {
    "collapsed": false,
    "ExecuteTime": {
     "end_time": "2024-10-01T14:49:10.444746Z",
     "start_time": "2024-10-01T14:49:08.956034Z"
    }
   },
   "id": "68d14ef4b89d3141",
   "execution_count": 10
  },
  {
   "cell_type": "code",
   "outputs": [],
   "source": [
    "from operator import itemgetter\n",
    "from langchain_community.embeddings import HuggingFaceBgeEmbeddings\n",
    "from langchain_core.prompts import format_document\n",
    "from langchain_core.prompts.prompt import PromptTemplate\n",
    "\n",
    "model_name = \"BAAI/bge-base-en-v1.5\"\n",
    "encode_kwargs = {\"normalize_embeddings\": True}\n",
    "local_embeddings = HuggingFaceBgeEmbeddings(\n",
    "    model_name=model_name, encode_kwargs=encode_kwargs, query_instruction=\"Represent this sentence for searching relevant passages:\",\n",
    ")\n",
    "\n",
    "documents = [Document(page_content=document_content)]\n",
    "text_splitter = RecursiveCharacterTextSplitter(chunk_size=1000, chunk_overlap=100)\n",
    "chunks = text_splitter.split_documents(documents)\n",
    "\n",
    "docsearch = FAISS.from_documents(chunks, local_embeddings)\n",
    "retriever = docsearch.as_retriever()\n",
    "\n",
    "DEFAULT_DOCUMENT_PROMPT = PromptTemplate.from_template(template=\"{page_content}\")\n",
    "\n",
    "def _combine_documents(docs, document_prompt=DEFAULT_DOCUMENT_PROMPT, document_separator=\"\\n\\n\"):\n",
    "    doc_strings = [format_document(doc, document_prompt) for doc in docs]\n",
    "    return document_separator.join(doc_strings)\n",
    "\n",
    "# Anonymize the context after retrieval\n",
    "chain_with_deanonymization = (\n",
    "        RunnableParallel({\"question\": RunnablePassthrough()})\n",
    "        | {\n",
    "            \"context\": itemgetter(\"question\")\n",
    "                       | retriever\n",
    "                       | _combine_documents\n",
    "                       | anonymizer.anonymize,\n",
    "            \"anonymized_question\": lambda x: anonymizer.anonymize(x[\"question\"]),\n",
    "        }\n",
    "        | prompt\n",
    "        | model\n",
    "        | StrOutputParser()\n",
    "        | RunnableLambda(anonymizer.deanonymize)\n",
    ")\n"
   ],
   "metadata": {
    "collapsed": false
   },
   "id": "3243c2b63a9f7b7a"
  }
 ],
 "metadata": {
  "kernelspec": {
   "display_name": "Python 3",
   "language": "python",
   "name": "python3"
  },
  "language_info": {
   "codemirror_mode": {
    "name": "ipython",
    "version": 2
   },
   "file_extension": ".py",
   "mimetype": "text/x-python",
   "name": "python",
   "nbconvert_exporter": "python",
   "pygments_lexer": "ipython2",
   "version": "2.7.6"
  }
 },
 "nbformat": 4,
 "nbformat_minor": 5
}
