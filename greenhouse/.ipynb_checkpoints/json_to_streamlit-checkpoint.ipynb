{
 "cells": [
  {
   "cell_type": "code",
   "execution_count": 1,
   "id": "initial_id",
   "metadata": {
    "collapsed": true,
    "ExecuteTime": {
     "end_time": "2024-09-18T23:53:45.230467Z",
     "start_time": "2024-09-18T23:53:28.028001Z"
    }
   },
   "outputs": [],
   "source": [
    "import pandas as pd\n",
    "import json"
   ]
  },
  {
   "cell_type": "code",
   "outputs": [],
   "source": [
    "from sklearn.datasets import load_iris\n",
    "data = load_iris()"
   ],
   "metadata": {
    "collapsed": false,
    "ExecuteTime": {
     "end_time": "2024-09-18T23:53:57.746547Z",
     "start_time": "2024-09-18T23:53:45.233115Z"
    }
   },
   "id": "904cfcebbb97ef5b",
   "execution_count": 2
  },
  {
   "cell_type": "code",
   "outputs": [],
   "source": [
    "df = pd.DataFrame(data=data.data, columns=data.feature_names)"
   ],
   "metadata": {
    "collapsed": false,
    "ExecuteTime": {
     "end_time": "2024-09-18T23:53:57.759511Z",
     "start_time": "2024-09-18T23:53:57.749608Z"
    }
   },
   "id": "884a9e27eb742e91",
   "execution_count": 3
  },
  {
   "cell_type": "code",
   "outputs": [
    {
     "data": {
      "text/plain": "                   sepal width (cm)  petal length (cm)  petal width (cm)\nsepal length (cm)                                                       \n4.3                             3.0                1.1               0.1\n4.4                             9.1                4.0               0.6\n4.5                             2.3                1.3               0.3\n4.6                            13.3                5.3               0.9\n4.7                             6.4                2.9               0.4\n4.8                            15.9                7.9               1.0\n4.9                            17.7               13.6               3.3\n5.0                            31.2               18.4               4.3\n5.1                            31.3               15.5               3.6\n5.2                            13.7                8.3               1.9\n5.3                             3.7                1.5               0.2\n5.4                            21.3               12.2               3.1\n5.5                            19.9               22.6               6.3\n5.6                            16.9               25.2               8.5\n5.7                            24.8               28.7               8.8\n5.8                            20.2               28.5               9.8\n5.9                             9.2               14.1               5.1\n6.0                            16.4               27.9               9.0\n6.1                            17.1               28.5               8.5\n6.2                            11.3               19.0               6.9\n6.3                            25.7               46.2              16.3\n6.4                            20.7               36.1              13.1\n6.5                            15.0               26.2               9.5\n6.6                             5.9                9.0               2.7\n6.7                            24.4               42.1              15.7\n6.8                             9.0               16.2               5.8\n6.9                            12.5               21.1               8.2\n7.0                             3.2                4.7               1.4\n7.1                             3.0                5.9               2.1\n7.2                             9.8               17.9               5.9\n7.3                             2.9                6.3               1.8\n7.4                             2.8                6.1               1.9\n7.6                             3.0                6.6               2.1\n7.7                            12.2               26.4               8.8\n7.9                             3.8                6.4               2.0",
      "text/html": "<div>\n<style scoped>\n    .dataframe tbody tr th:only-of-type {\n        vertical-align: middle;\n    }\n\n    .dataframe tbody tr th {\n        vertical-align: top;\n    }\n\n    .dataframe thead th {\n        text-align: right;\n    }\n</style>\n<table border=\"1\" class=\"dataframe\">\n  <thead>\n    <tr style=\"text-align: right;\">\n      <th></th>\n      <th>sepal width (cm)</th>\n      <th>petal length (cm)</th>\n      <th>petal width (cm)</th>\n    </tr>\n    <tr>\n      <th>sepal length (cm)</th>\n      <th></th>\n      <th></th>\n      <th></th>\n    </tr>\n  </thead>\n  <tbody>\n    <tr>\n      <th>4.3</th>\n      <td>3.0</td>\n      <td>1.1</td>\n      <td>0.1</td>\n    </tr>\n    <tr>\n      <th>4.4</th>\n      <td>9.1</td>\n      <td>4.0</td>\n      <td>0.6</td>\n    </tr>\n    <tr>\n      <th>4.5</th>\n      <td>2.3</td>\n      <td>1.3</td>\n      <td>0.3</td>\n    </tr>\n    <tr>\n      <th>4.6</th>\n      <td>13.3</td>\n      <td>5.3</td>\n      <td>0.9</td>\n    </tr>\n    <tr>\n      <th>4.7</th>\n      <td>6.4</td>\n      <td>2.9</td>\n      <td>0.4</td>\n    </tr>\n    <tr>\n      <th>4.8</th>\n      <td>15.9</td>\n      <td>7.9</td>\n      <td>1.0</td>\n    </tr>\n    <tr>\n      <th>4.9</th>\n      <td>17.7</td>\n      <td>13.6</td>\n      <td>3.3</td>\n    </tr>\n    <tr>\n      <th>5.0</th>\n      <td>31.2</td>\n      <td>18.4</td>\n      <td>4.3</td>\n    </tr>\n    <tr>\n      <th>5.1</th>\n      <td>31.3</td>\n      <td>15.5</td>\n      <td>3.6</td>\n    </tr>\n    <tr>\n      <th>5.2</th>\n      <td>13.7</td>\n      <td>8.3</td>\n      <td>1.9</td>\n    </tr>\n    <tr>\n      <th>5.3</th>\n      <td>3.7</td>\n      <td>1.5</td>\n      <td>0.2</td>\n    </tr>\n    <tr>\n      <th>5.4</th>\n      <td>21.3</td>\n      <td>12.2</td>\n      <td>3.1</td>\n    </tr>\n    <tr>\n      <th>5.5</th>\n      <td>19.9</td>\n      <td>22.6</td>\n      <td>6.3</td>\n    </tr>\n    <tr>\n      <th>5.6</th>\n      <td>16.9</td>\n      <td>25.2</td>\n      <td>8.5</td>\n    </tr>\n    <tr>\n      <th>5.7</th>\n      <td>24.8</td>\n      <td>28.7</td>\n      <td>8.8</td>\n    </tr>\n    <tr>\n      <th>5.8</th>\n      <td>20.2</td>\n      <td>28.5</td>\n      <td>9.8</td>\n    </tr>\n    <tr>\n      <th>5.9</th>\n      <td>9.2</td>\n      <td>14.1</td>\n      <td>5.1</td>\n    </tr>\n    <tr>\n      <th>6.0</th>\n      <td>16.4</td>\n      <td>27.9</td>\n      <td>9.0</td>\n    </tr>\n    <tr>\n      <th>6.1</th>\n      <td>17.1</td>\n      <td>28.5</td>\n      <td>8.5</td>\n    </tr>\n    <tr>\n      <th>6.2</th>\n      <td>11.3</td>\n      <td>19.0</td>\n      <td>6.9</td>\n    </tr>\n    <tr>\n      <th>6.3</th>\n      <td>25.7</td>\n      <td>46.2</td>\n      <td>16.3</td>\n    </tr>\n    <tr>\n      <th>6.4</th>\n      <td>20.7</td>\n      <td>36.1</td>\n      <td>13.1</td>\n    </tr>\n    <tr>\n      <th>6.5</th>\n      <td>15.0</td>\n      <td>26.2</td>\n      <td>9.5</td>\n    </tr>\n    <tr>\n      <th>6.6</th>\n      <td>5.9</td>\n      <td>9.0</td>\n      <td>2.7</td>\n    </tr>\n    <tr>\n      <th>6.7</th>\n      <td>24.4</td>\n      <td>42.1</td>\n      <td>15.7</td>\n    </tr>\n    <tr>\n      <th>6.8</th>\n      <td>9.0</td>\n      <td>16.2</td>\n      <td>5.8</td>\n    </tr>\n    <tr>\n      <th>6.9</th>\n      <td>12.5</td>\n      <td>21.1</td>\n      <td>8.2</td>\n    </tr>\n    <tr>\n      <th>7.0</th>\n      <td>3.2</td>\n      <td>4.7</td>\n      <td>1.4</td>\n    </tr>\n    <tr>\n      <th>7.1</th>\n      <td>3.0</td>\n      <td>5.9</td>\n      <td>2.1</td>\n    </tr>\n    <tr>\n      <th>7.2</th>\n      <td>9.8</td>\n      <td>17.9</td>\n      <td>5.9</td>\n    </tr>\n    <tr>\n      <th>7.3</th>\n      <td>2.9</td>\n      <td>6.3</td>\n      <td>1.8</td>\n    </tr>\n    <tr>\n      <th>7.4</th>\n      <td>2.8</td>\n      <td>6.1</td>\n      <td>1.9</td>\n    </tr>\n    <tr>\n      <th>7.6</th>\n      <td>3.0</td>\n      <td>6.6</td>\n      <td>2.1</td>\n    </tr>\n    <tr>\n      <th>7.7</th>\n      <td>12.2</td>\n      <td>26.4</td>\n      <td>8.8</td>\n    </tr>\n    <tr>\n      <th>7.9</th>\n      <td>3.8</td>\n      <td>6.4</td>\n      <td>2.0</td>\n    </tr>\n  </tbody>\n</table>\n</div>"
     },
     "execution_count": 4,
     "metadata": {},
     "output_type": "execute_result"
    }
   ],
   "source": [
    "df.groupby('sepal length (cm)').sum()"
   ],
   "metadata": {
    "collapsed": false,
    "ExecuteTime": {
     "end_time": "2024-09-18T23:53:57.812681Z",
     "start_time": "2024-09-18T23:53:57.763702Z"
    }
   },
   "id": "7e6006db1fb0aeb5",
   "execution_count": 4
  },
  {
   "cell_type": "code",
   "outputs": [
    {
     "data": {
      "text/plain": "[Profile(name='typicode')]"
     },
     "execution_count": 4,
     "metadata": {},
     "output_type": "execute_result"
    }
   ],
   "source": [
    "# A profile has Posts and Posts have comments\n",
    "from pydantic import BaseModel, ConfigDict\n",
    "\n",
    "class Profile(BaseModel):\n",
    "    model_config = ConfigDict(strict=True)\n",
    "    name: str\n",
    "class Post(BaseModel):\n",
    "    model_config = ConfigDict(strict=True)\n",
    "    id: int\n",
    "    title: str\n",
    "class Comment(BaseModel):\n",
    "    model_config = ConfigDict(strict=True)\n",
    "    id: int\n",
    "    body: str\n",
    "    post: Post\n",
    "\n",
    "import requests\n",
    "json_data = requests.get('https://my-json-server.typicode.com/typicode/demo/db').json()\n",
    "profiles = []\n",
    "try:\n",
    "   profiles.append(Profile.model_validate(json_data.get('profile')))\n",
    "except ValueError as e:\n",
    "    print(f\"ERROR: parsing profile {p} failed: {e}\")\n",
    "\n",
    "profiles"
   ],
   "metadata": {
    "collapsed": false,
    "ExecuteTime": {
     "end_time": "2024-09-19T00:02:43.465297Z",
     "start_time": "2024-09-19T00:02:42.471968Z"
    }
   },
   "id": "a520ee5efdd1b3e8",
   "execution_count": 4
  },
  {
   "cell_type": "code",
   "outputs": [
    {
     "data": {
      "text/plain": "[Post(id=1, title='Post 1'),\n Post(id=2, title='Post 2'),\n Post(id=3, title='Post 3')]"
     },
     "execution_count": 5,
     "metadata": {},
     "output_type": "execute_result"
    }
   ],
   "source": [
    "posts = []\n",
    "for p in json_data.get('posts', []):\n",
    "    try:\n",
    "        posts.append(Post.model_validate(p))\n",
    "    except ValueError as e:\n",
    "        print(f\"ERROR: parsing post {p} failed: {e}\")\n",
    "posts"
   ],
   "metadata": {
    "collapsed": false,
    "ExecuteTime": {
     "end_time": "2024-09-19T00:02:43.689733Z",
     "start_time": "2024-09-19T00:02:43.673810Z"
    }
   },
   "id": "3ddb8defd2af579d",
   "execution_count": 5
  },
  {
   "cell_type": "code",
   "outputs": [
    {
     "data": {
      "text/plain": "[Comment(id=1, body='some comment', post=Post(id=1, title='Post 1')),\n Comment(id=2, body='some comment', post=Post(id=1, title='Post 1'))]"
     },
     "execution_count": 6,
     "metadata": {},
     "output_type": "execute_result"
    }
   ],
   "source": [
    "comments = []\n",
    "for c in json_data.get('comments', []):\n",
    "    try:\n",
    "        c['post'] = [p for p in posts if p.id == c['postId']][0]\n",
    "        comments.append(Comment.model_validate(c))\n",
    "    except ValueError as e:\n",
    "        print(f\"ERROR: parsing comment {p} failed: {e}\")\n",
    "    except Exception as e:\n",
    "        print(f'ERROR: parsing due to {e}')\n",
    "comments"
   ],
   "metadata": {
    "collapsed": false,
    "ExecuteTime": {
     "end_time": "2024-09-19T00:02:44.243704Z",
     "start_time": "2024-09-19T00:02:44.235775Z"
    }
   },
   "id": "b1553a1fd8cfb2bc",
   "execution_count": 6
  },
  {
   "cell_type": "code",
   "outputs": [
    {
     "data": {
      "text/plain": "<IPython.core.display.Markdown object>",
      "text/markdown": "# Example"
     },
     "metadata": {},
     "output_type": "display_data"
    },
    {
     "data": {
      "text/plain": "   id          body                          post\n0   1  some comment  {'id': 1, 'title': 'Post 1'}\n1   2  some comment  {'id': 1, 'title': 'Post 1'}",
      "text/html": "<div>\n<style scoped>\n    .dataframe tbody tr th:only-of-type {\n        vertical-align: middle;\n    }\n\n    .dataframe tbody tr th {\n        vertical-align: top;\n    }\n\n    .dataframe thead th {\n        text-align: right;\n    }\n</style>\n<table border=\"1\" class=\"dataframe\">\n  <thead>\n    <tr style=\"text-align: right;\">\n      <th></th>\n      <th>id</th>\n      <th>body</th>\n      <th>post</th>\n    </tr>\n  </thead>\n  <tbody>\n    <tr>\n      <th>0</th>\n      <td>1</td>\n      <td>some comment</td>\n      <td>{'id': 1, 'title': 'Post 1'}</td>\n    </tr>\n    <tr>\n      <th>1</th>\n      <td>2</td>\n      <td>some comment</td>\n      <td>{'id': 1, 'title': 'Post 1'}</td>\n    </tr>\n  </tbody>\n</table>\n</div>"
     },
     "execution_count": 7,
     "metadata": {},
     "output_type": "execute_result"
    }
   ],
   "source": [
    "import streamlit as st\n",
    "import pandas as pd\n",
    "df = pd.DataFrame([c.dict() for c in comments])\n",
    "st.title(\"Example\")\n",
    "df"
   ],
   "metadata": {
    "collapsed": false,
    "ExecuteTime": {
     "end_time": "2024-09-19T00:02:44.905554Z",
     "start_time": "2024-09-19T00:02:44.880117Z"
    }
   },
   "id": "6f3179e46d48a8ef",
   "execution_count": 7
  },
  {
   "cell_type": "code",
   "outputs": [],
   "source": [],
   "metadata": {
    "collapsed": false
   },
   "id": "2623dbbf8f191374"
  }
 ],
 "metadata": {
  "kernelspec": {
   "display_name": "Python 3",
   "language": "python",
   "name": "python3"
  },
  "language_info": {
   "codemirror_mode": {
    "name": "ipython",
    "version": 2
   },
   "file_extension": ".py",
   "mimetype": "text/x-python",
   "name": "python",
   "nbconvert_exporter": "python",
   "pygments_lexer": "ipython2",
   "version": "2.7.6"
  }
 },
 "nbformat": 4,
 "nbformat_minor": 5
}
