{
 "cells": [
  {
   "cell_type": "code",
   "execution_count": 34,
   "id": "initial_id",
   "metadata": {
    "collapsed": true,
    "ExecuteTime": {
     "end_time": "2024-10-05T00:58:47.726315Z",
     "start_time": "2024-10-05T00:58:47.678014Z"
    }
   },
   "outputs": [],
   "source": [
    "import requests\n",
    "import logging\n",
    "logger = logging.getLogger(__name__)\n",
    "\n",
    "from langchain_text_splitters import HTMLSectionSplitter"
   ]
  },
  {
   "cell_type": "code",
   "outputs": [],
   "source": [
    "bp_uaa_server_ip = '10.186.34.99'\n",
    "web_help_endpoint = 'uaa-ui/webhelp/WebHelp/'\n",
    "menus_endpoint = 'Data/Tocs/BPUAA_User_Guide__Online_Output__Chunk0.js'"
   ],
   "metadata": {
    "collapsed": false,
    "ExecuteTime": {
     "end_time": "2024-10-05T00:58:48.018096Z",
     "start_time": "2024-10-05T00:58:47.986330Z"
    }
   },
   "id": "605819d892bd443b",
   "execution_count": 35
  },
  {
   "cell_type": "code",
   "outputs": [
    {
     "name": "stderr",
     "output_type": "stream",
     "text": [
      "/Users/bwubete/opt/anaconda3/envs/bpa_ai_sdk_new/lib/python3.10/site-packages/urllib3/connectionpool.py:1099: InsecureRequestWarning: Unverified HTTPS request is being made to host '10.186.34.99'. Adding certificate verification is strongly advised. See: https://urllib3.readthedocs.io/en/latest/advanced-usage.html#tls-warnings\n",
      "  warnings.warn(\n"
     ]
    }
   ],
   "source": [
    "url = f'https://{bp_uaa_server_ip}/{web_help_endpoint}/{menus_endpoint}'\n",
    "menus = requests.get(url, verify=False)\n",
    "menus = menus.text.replace('define(', '').replace('});', '')\n",
    "pages = {}\n",
    "for n in menus.split('.htm'):\n",
    "    if '/' in n:\n",
    "        try:\n",
    "            menu = n[n.find('/') + 1:] + '.htm'\n",
    "            url = f'https://{bp_uaa_server_ip}/{web_help_endpoint}{menu}'\n",
    "            #page = requests.get(url, verify=False).text\n",
    "            pages[url] = ''\n",
    "        except Exception as e:\n",
    "            logger.error(f'Failed to process url {n} due to {str(e)}')\n",
    "pages[f'https://{bp_uaa_server_ip}/{web_help_endpoint}/Home.htm'] = ''"
   ],
   "metadata": {
    "collapsed": false,
    "ExecuteTime": {
     "end_time": "2024-10-05T02:23:59.473601Z",
     "start_time": "2024-10-05T02:23:59.289953Z"
    }
   },
   "id": "58579f7abf166ee9",
   "execution_count": 48
  },
  {
   "cell_type": "code",
   "outputs": [
    {
     "data": {
      "text/plain": "{'https://10.186.34.99/uaa-ui/webhelp/WebHelp/AI_Apps/AIApps.htm': '',\n 'https://10.186.34.99/uaa-ui/webhelp/WebHelp/AI_Apps/Alarm_Prioritization/AlarmPrioritization.htm': '',\n 'https://10.186.34.99/uaa-ui/webhelp/WebHelp/AI_Apps/Alarm_Prioritization/WorkingWithUseAlarmPrioritization.htm': '',\n 'https://10.186.34.99/uaa-ui/webhelp/WebHelp/AI_Apps/Cross_Layer_Stitching/CrossLayerStitching.htm': '',\n 'https://10.186.34.99/uaa-ui/webhelp/WebHelp/AI_Apps/Cross_Layer_Stitching/WorkingWithCrossLayerStitching.htm': '',\n 'https://10.186.34.99/uaa-ui/webhelp/WebHelp/AI_Apps/Fiber_Degradation/FiberDegradation.htm': '',\n 'https://10.186.34.99/uaa-ui/webhelp/WebHelp/AI_Apps/Fiber_Degradation/WorkingWithUseFiberDegradation.htm': '',\n 'https://10.186.34.99/uaa-ui/webhelp/WebHelp/AI_Apps/Network_Health_Analytics/Network_Health_Analytics.htm': '',\n 'https://10.186.34.99/uaa-ui/webhelp/WebHelp/AI_Apps/Silent_Fault_Detection/SilentFaultDetection.htm': '',\n 'https://10.186.34.99/uaa-ui/webhelp/WebHelp/AI_Apps/Silent_Fault_Detection/Working_with_silent_fault_detection.htm': '',\n 'https://10.186.34.99/uaa-ui/webhelp/WebHelp/Automation/Automation.htm': '',\n 'https://10.186.34.99/uaa-ui/webhelp/WebHelp/Automation/Node_Actions/NodeActions.htm': '',\n 'https://10.186.34.99/uaa-ui/webhelp/WebHelp/Automation/Node_Actions/Node_Action_Templates/NodeActionTemplates.htm': '',\n 'https://10.186.34.99/uaa-ui/webhelp/WebHelp/Automation/Node_Actions/Node_Action_Templates/WorkingWithNodeActionTemplates.htm': '',\n 'https://10.186.34.99/uaa-ui/webhelp/WebHelp/Automation/Node_Actions/WorkingWithNodeActions.htm': '',\n 'https://10.186.34.99/uaa-ui/webhelp/WebHelp/Automation/Trouble_Ticket/Advanced_Trouble_Ticket/AdvancedTroubleTicket.htm': '',\n 'https://10.186.34.99/uaa-ui/webhelp/WebHelp/Automation/Trouble_Ticket/Classic_Trouble_Ticket/ClassicTroubleTicket.htm': '',\n 'https://10.186.34.99/uaa-ui/webhelp/WebHelp/Automation/Trouble_Ticket/Trouble_Ticket.htm': '',\n 'https://10.186.34.99/uaa-ui/webhelp/WebHelp/Automation/Workflows/Action_Templates/ActionTemplates.htm': '',\n 'https://10.186.34.99/uaa-ui/webhelp/WebHelp/Automation/Workflows/Action_Templates/MIBSampleClassic.htm': '',\n 'https://10.186.34.99/uaa-ui/webhelp/WebHelp/Automation/Workflows/Action_Templates/WorkingWithActionTemplates.htm': '',\n 'https://10.186.34.99/uaa-ui/webhelp/WebHelp/Automation/Workflows/AdvancedWorkflows/AddingaCustomFilter.htm': '',\n 'https://10.186.34.99/uaa-ui/webhelp/WebHelp/Automation/Workflows/AdvancedWorkflows/Addingadefaultfilter.htm': '',\n 'https://10.186.34.99/uaa-ui/webhelp/WebHelp/Automation/Workflows/AdvancedWorkflows/AdvancedEmail.htm': '',\n 'https://10.186.34.99/uaa-ui/webhelp/WebHelp/Automation/Workflows/AdvancedWorkflows/AdvancedKafka.htm': '',\n 'https://10.186.34.99/uaa-ui/webhelp/WebHelp/Automation/Workflows/AdvancedWorkflows/AdvancedSNMPTrap.htm': '',\n 'https://10.186.34.99/uaa-ui/webhelp/WebHelp/Automation/Workflows/AdvancedWorkflows/AdvancedScriptAction.htm': '',\n 'https://10.186.34.99/uaa-ui/webhelp/WebHelp/Automation/Workflows/AdvancedWorkflows/AdvancedTroubleTicket.htm': '',\n 'https://10.186.34.99/uaa-ui/webhelp/WebHelp/Automation/Workflows/AdvancedWorkflows/Advanced_External_DB_Action.htm': '',\n 'https://10.186.34.99/uaa-ui/webhelp/WebHelp/Automation/Workflows/AdvancedWorkflows/Advanced_workflows.htm': '',\n 'https://10.186.34.99/uaa-ui/webhelp/WebHelp/Automation/Workflows/AdvancedWorkflows/CheckAandZEndpointAlarmed.htm': '',\n 'https://10.186.34.99/uaa-ui/webhelp/WebHelp/Automation/Workflows/AdvancedWorkflows/CollectionofObjects.htm': '',\n 'https://10.186.34.99/uaa-ui/webhelp/WebHelp/Automation/Workflows/AdvancedWorkflows/CreateAlarm.htm': '',\n 'https://10.186.34.99/uaa-ui/webhelp/WebHelp/Automation/Workflows/AdvancedWorkflows/CreateJSON.htm': '',\n 'https://10.186.34.99/uaa-ui/webhelp/WebHelp/Automation/Workflows/AdvancedWorkflows/CustomJARAction.htm': '',\n 'https://10.186.34.99/uaa-ui/webhelp/WebHelp/Automation/Workflows/AdvancedWorkflows/CustomJSONAction.htm': '',\n 'https://10.186.34.99/uaa-ui/webhelp/WebHelp/Automation/Workflows/AdvancedWorkflows/GetObjects.htm': '',\n 'https://10.186.34.99/uaa-ui/webhelp/WebHelp/Automation/Workflows/AdvancedWorkflows/GetRelatedObjects.htm': '',\n 'https://10.186.34.99/uaa-ui/webhelp/WebHelp/Automation/Workflows/AdvancedWorkflows/GroupandPersistAlarms.htm': '',\n 'https://10.186.34.99/uaa-ui/webhelp/WebHelp/Automation/Workflows/AdvancedWorkflows/IfelseLadder.htm': '',\n 'https://10.186.34.99/uaa-ui/webhelp/WebHelp/Automation/Workflows/AdvancedWorkflows/Iterator.htm': '',\n 'https://10.186.34.99/uaa-ui/webhelp/WebHelp/Automation/Workflows/AdvancedWorkflows/Javascript_action.htm': '',\n 'https://10.186.34.99/uaa-ui/webhelp/WebHelp/Automation/Workflows/AdvancedWorkflows/ManageWorkflowTreeAdvanced.htm': '',\n 'https://10.186.34.99/uaa-ui/webhelp/WebHelp/Automation/Workflows/AdvancedWorkflows/MethodExpressions.htm': '',\n 'https://10.186.34.99/uaa-ui/webhelp/WebHelp/Automation/Workflows/AdvancedWorkflows/RESTAPI.htm': '',\n 'https://10.186.34.99/uaa-ui/webhelp/WebHelp/Automation/Workflows/AdvancedWorkflows/SaveAction.htm': '',\n 'https://10.186.34.99/uaa-ui/webhelp/WebHelp/Automation/Workflows/AdvancedWorkflows/SetProperty.htm': '',\n 'https://10.186.34.99/uaa-ui/webhelp/WebHelp/Automation/Workflows/AdvancedWorkflows/Streaming_workflow.htm': '',\n 'https://10.186.34.99/uaa-ui/webhelp/WebHelp/Automation/Workflows/AdvancedWorkflows/VariableExpressions.htm': '',\n 'https://10.186.34.99/uaa-ui/webhelp/WebHelp/Automation/Workflows/AdvancedWorkflows/WorkingWithWorkflowsAdvanced.htm': '',\n 'https://10.186.34.99/uaa-ui/webhelp/WebHelp/Automation/Workflows/ClassicWorkflows/Classic_workflows.htm': '',\n 'https://10.186.34.99/uaa-ui/webhelp/WebHelp/Automation/Workflows/ClassicWorkflows/ManageWorkflowTreeClassic.htm': '',\n 'https://10.186.34.99/uaa-ui/webhelp/WebHelp/Automation/Workflows/ClassicWorkflows/WorkingWithWorkflowsClassic.htm': '',\n 'https://10.186.34.99/uaa-ui/webhelp/WebHelp/Automation/Workflows/External_Database_Connections/ExternalDatabaseConnections.htm': '',\n 'https://10.186.34.99/uaa-ui/webhelp/WebHelp/Automation/Workflows/External_Database_Connections/WorkingWithExternalDatabaseConnections.htm': '',\n 'https://10.186.34.99/uaa-ui/webhelp/WebHelp/Automation/Workflows/Workflow_Triggers/WorkflowTriggers.htm': '',\n 'https://10.186.34.99/uaa-ui/webhelp/WebHelp/Automation/Workflows/Workflow_Triggers/WorkingWithWorkflowTriggers.htm': '',\n 'https://10.186.34.99/uaa-ui/webhelp/WebHelp/Automation/Workflows/Workflows.htm': '',\n 'https://10.186.34.99/uaa-ui/webhelp/WebHelp/Dashboards/Dashboards.htm': '',\n 'https://10.186.34.99/uaa-ui/webhelp/WebHelp/Dashboards/Overview.htm': '',\n 'https://10.186.34.99/uaa-ui/webhelp/WebHelp/Dashboards/Reports/Generated_Reports/GeneratedReports.htm': '',\n 'https://10.186.34.99/uaa-ui/webhelp/WebHelp/Dashboards/Reports/Generated_Reports/WorkingWithGeneratedReports.htm': '',\n 'https://10.186.34.99/uaa-ui/webhelp/WebHelp/Dashboards/Reports/Reports.htm': '',\n 'https://10.186.34.99/uaa-ui/webhelp/WebHelp/Dashboards/Reports/Scheduled_Reports/ScheduledReports.htm': '',\n 'https://10.186.34.99/uaa-ui/webhelp/WebHelp/Dashboards/Reports/Scheduled_Reports/WorkingWithScheduledReports.htm': '',\n 'https://10.186.34.99/uaa-ui/webhelp/WebHelp/Dashboards/Reports/WorkingWithReports.htm': '',\n 'https://10.186.34.99/uaa-ui/webhelp/WebHelp/Dashboards/Widget_Repository/Controls/Controls.htm': '',\n 'https://10.186.34.99/uaa-ui/webhelp/WebHelp/Dashboards/Widget_Repository/Controls/WorkingWithControls.htm': '',\n 'https://10.186.34.99/uaa-ui/webhelp/WebHelp/Dashboards/Widget_Repository/WidgetRepository.htm': '',\n 'https://10.186.34.99/uaa-ui/webhelp/WebHelp/Dashboards/Widget_Repository/WorkingWithWidgetRepository.htm': '',\n 'https://10.186.34.99/uaa-ui/webhelp/WebHelp/Dashboards/WorkingWithDashboardScheduling.htm': '',\n 'https://10.186.34.99/uaa-ui/webhelp/WebHelp/Dashboards/WorkingWithDashboards.htm': '',\n 'https://10.186.34.99/uaa-ui/webhelp/WebHelp/Fault_Management/Alarm_Policies/Alarm_Correlation_Policies/AlarmCorrelationPolicies.htm': '',\n 'https://10.186.34.99/uaa-ui/webhelp/WebHelp/Fault_Management/Alarm_Policies/Alarm_Correlation_Policies/Working_with_alarm_correlation_policies.htm': '',\n 'https://10.186.34.99/uaa-ui/webhelp/WebHelp/Fault_Management/Alarm_Policies/Alarm_Policies.htm': '',\n 'https://10.186.34.99/uaa-ui/webhelp/WebHelp/Fault_Management/Alarm_Policies/Alarm_Suppression_Policies/AlarmSuppressionPolicies.htm': '',\n 'https://10.186.34.99/uaa-ui/webhelp/WebHelp/Fault_Management/Alarm_Policies/Alarm_Suppression_Policies/Working_with_alarm_suppression_policies.htm': '',\n 'https://10.186.34.99/uaa-ui/webhelp/WebHelp/Fault_Management/Alarm_Policies/Alarm_Threshold_Policies/AlarmThresholdPolicies.htm': '',\n 'https://10.186.34.99/uaa-ui/webhelp/WebHelp/Fault_Management/Alarm_Policies/Alarm_Threshold_Policies/Working_with_alarm_threshold_policies.htm': '',\n 'https://10.186.34.99/uaa-ui/webhelp/WebHelp/Fault_Management/Alarm_Policies/Audible_Alarm_Notification_Policies/AudibleAlarmNotificationPolicies.htm': '',\n 'https://10.186.34.99/uaa-ui/webhelp/WebHelp/Fault_Management/Alarm_Policies/Audible_Alarm_Notification_Policies/Working_with_audible_alarm_notification_policies.htm': '',\n 'https://10.186.34.99/uaa-ui/webhelp/WebHelp/Fault_Management/Alarm_Policies/Resource_Adapter_Customization_Rules/ResourceAdapterCustomizationRules.htm': '',\n 'https://10.186.34.99/uaa-ui/webhelp/WebHelp/Fault_Management/Alarm_Policies/Resource_Adapter_Customization_Rules/Working_with_resource_adapter_customization_rules.htm': '',\n 'https://10.186.34.99/uaa-ui/webhelp/WebHelp/Fault_Management/Alarms_and_Events/Alarm.htm': '',\n 'https://10.186.34.99/uaa-ui/webhelp/WebHelp/Fault_Management/Alarms_and_Events/AlarmDetails.htm': '',\n 'https://10.186.34.99/uaa-ui/webhelp/WebHelp/Fault_Management/Alarms_and_Events/AlarmsAndEvents.htm': '',\n 'https://10.186.34.99/uaa-ui/webhelp/WebHelp/Fault_Management/Alarms_and_Events/Custom_Alarm_Fields/CustomAlarmFields.htm': '',\n 'https://10.186.34.99/uaa-ui/webhelp/WebHelp/Fault_Management/Alarms_and_Events/Custom_Alarm_Fields/Working_with_custom_alarm_fields.htm': '',\n 'https://10.186.34.99/uaa-ui/webhelp/WebHelp/Fault_Management/Alarms_and_Events/RootCauseAnalysis.htm': '',\n 'https://10.186.34.99/uaa-ui/webhelp/WebHelp/Fault_Management/Alarms_and_Events/WorkingWithAlarmsAndEvents.htm': '',\n 'https://10.186.34.99/uaa-ui/webhelp/WebHelp/Fault_Management/Fault_Management.htm': '',\n 'https://10.186.34.99/uaa-ui/webhelp/WebHelp/GET_STARTED/AcronymsAndAbbreviations.htm': '',\n 'https://10.186.34.99/uaa-ui/webhelp/WebHelp/GET_STARTED/Common_Behavior.htm': '',\n 'https://10.186.34.99/uaa-ui/webhelp/WebHelp/GET_STARTED/Overview.htm': '',\n 'https://10.186.34.99/uaa-ui/webhelp/WebHelp/HOW-TO_VIDEOS/How_to_Videos.htm': '',\n 'https://10.186.34.99/uaa-ui/webhelp/WebHelp/Network_Data_Collection_and_Discovery/Application_Monitors/ApplicationMonitors.htm': '',\n 'https://10.186.34.99/uaa-ui/webhelp/WebHelp/Network_Data_Collection_and_Discovery/Application_Monitors/Application_Monitoring_Templates/ApplicationMonitoringTemplates.htm': '',\n 'https://10.186.34.99/uaa-ui/webhelp/WebHelp/Network_Data_Collection_and_Discovery/Application_Monitors/Application_Monitoring_Templates/WorkingWithApplicationMonitoringTemplates.htm': '',\n 'https://10.186.34.99/uaa-ui/webhelp/WebHelp/Network_Data_Collection_and_Discovery/Application_Monitors/NodeApplicationMonitorDetails.htm': '',\n 'https://10.186.34.99/uaa-ui/webhelp/WebHelp/Network_Data_Collection_and_Discovery/Application_Monitors/WorkingWithApplicationMonitors.htm': '',\n 'https://10.186.34.99/uaa-ui/webhelp/WebHelp/Network_Data_Collection_and_Discovery/Communication/Communication.htm': '',\n 'https://10.186.34.99/uaa-ui/webhelp/WebHelp/Network_Data_Collection_and_Discovery/Discovery/Discovery.htm': '',\n 'https://10.186.34.99/uaa-ui/webhelp/WebHelp/Network_Data_Collection_and_Discovery/Discovery/WorkingWithDiscovery.htm': '',\n 'https://10.186.34.99/uaa-ui/webhelp/WebHelp/Network_Data_Collection_and_Discovery/Discovery_Credentials/DiscoveryCredentials.htm': '',\n 'https://10.186.34.99/uaa-ui/webhelp/WebHelp/Network_Data_Collection_and_Discovery/Discovery_Credentials/WorkingWithDiscoveryCredentials.htm': '',\n 'https://10.186.34.99/uaa-ui/webhelp/WebHelp/Network_Data_Collection_and_Discovery/Network_Data_Collection_and_Discovery.htm': '',\n 'https://10.186.34.99/uaa-ui/webhelp/WebHelp/Network_Data_Collection_and_Discovery/Resource_Adapters/DeviceView.htm': '',\n 'https://10.186.34.99/uaa-ui/webhelp/WebHelp/Network_Data_Collection_and_Discovery/Resource_Adapters/ResourceAdapterView.htm': '',\n 'https://10.186.34.99/uaa-ui/webhelp/WebHelp/Network_Data_Collection_and_Discovery/Resource_Adapters/ResourceAdapters.htm': '',\n 'https://10.186.34.99/uaa-ui/webhelp/WebHelp/Network_Data_Collection_and_Discovery/Resource_Adapters/Resource_Adapter_Log_Translators/ResourceAdapterLogTranslators.htm': '',\n 'https://10.186.34.99/uaa-ui/webhelp/WebHelp/Network_Data_Collection_and_Discovery/Resource_Adapters/Resource_Adapter_Log_Translators/WorkingWithResourceAdapterLogTranslators.htm': '',\n 'https://10.186.34.99/uaa-ui/webhelp/WebHelp/Network_Resources/Connections/Connections.htm': '',\n 'https://10.186.34.99/uaa-ui/webhelp/WebHelp/Network_Resources/Connections/WorkingWithConnections.htm': '',\n 'https://10.186.34.99/uaa-ui/webhelp/WebHelp/Network_Resources/End_Points/Custom_End_Point_Fields/CustomEndPointFields.htm': '',\n 'https://10.186.34.99/uaa-ui/webhelp/WebHelp/Network_Resources/End_Points/Custom_End_Point_Fields/WorkingWithCustomEndPointFields.htm': '',\n 'https://10.186.34.99/uaa-ui/webhelp/WebHelp/Network_Resources/End_Points/EndPoints.htm': '',\n 'https://10.186.34.99/uaa-ui/webhelp/WebHelp/Network_Resources/End_Points/EndPointsDetails.htm': '',\n 'https://10.186.34.99/uaa-ui/webhelp/WebHelp/Network_Resources/End_Points/End_Point_Templates/EndPointTemplates.htm': '',\n 'https://10.186.34.99/uaa-ui/webhelp/WebHelp/Network_Resources/End_Points/End_Point_Templates/WorkingWithEndPointTemplates.htm': '',\n 'https://10.186.34.99/uaa-ui/webhelp/WebHelp/Network_Resources/End_Points/WorkingWithEndPoints.htm': '',\n 'https://10.186.34.99/uaa-ui/webhelp/WebHelp/Network_Resources/Network_Resources.htm': '',\n 'https://10.186.34.99/uaa-ui/webhelp/WebHelp/Network_Resources/Nodes/Cloud/Cloud.htm': '',\n 'https://10.186.34.99/uaa-ui/webhelp/WebHelp/Network_Resources/Nodes/Cloud/Compute_Hosts.htm': '',\n 'https://10.186.34.99/uaa-ui/webhelp/WebHelp/Network_Resources/Nodes/Cloud/VMs.htm': '',\n 'https://10.186.34.99/uaa-ui/webhelp/WebHelp/Network_Resources/Nodes/Cloud/VNFs.htm': '',\n 'https://10.186.34.99/uaa-ui/webhelp/WebHelp/Network_Resources/Nodes/Custom_Node_Fields/CustomNodeFields.htm': '',\n 'https://10.186.34.99/uaa-ui/webhelp/WebHelp/Network_Resources/Nodes/Custom_Node_Fields/WorkingWithCustomNodeFields.htm': '',\n 'https://10.186.34.99/uaa-ui/webhelp/WebHelp/Network_Resources/Nodes/GatewayAndSubtendedNodes.htm': '',\n 'https://10.186.34.99/uaa-ui/webhelp/WebHelp/Network_Resources/Nodes/NodeDetails.htm': '',\n 'https://10.186.34.99/uaa-ui/webhelp/WebHelp/Network_Resources/Nodes/Node_Templates/NodeTemplates.htm': '',\n 'https://10.186.34.99/uaa-ui/webhelp/WebHelp/Network_Resources/Nodes/Node_Templates/WorkingWithNodeTemplates.htm': '',\n 'https://10.186.34.99/uaa-ui/webhelp/WebHelp/Network_Resources/Nodes/Nodes.htm': '',\n 'https://10.186.34.99/uaa-ui/webhelp/WebHelp/Network_Resources/Nodes/WorkingWithNodes.htm': '',\n 'https://10.186.34.99/uaa-ui/webhelp/WebHelp/Performance_Management/Analytics/Analytics.htm': '',\n 'https://10.186.34.99/uaa-ui/webhelp/WebHelp/Performance_Management/Baseline.htm': '',\n 'https://10.186.34.99/uaa-ui/webhelp/WebHelp/Performance_Management/PM_Anomalies_and_Forecasting/AI_PM_Monitoring_Policy.htm': '',\n 'https://10.186.34.99/uaa-ui/webhelp/WebHelp/Performance_Management/PM_Anomalies_and_Forecasting/PMAnomalyDashboard.htm': '',\n 'https://10.186.34.99/uaa-ui/webhelp/WebHelp/Performance_Management/PM_Anomalies_and_Forecasting/PMAnomalyandForecast.htm': '',\n 'https://10.186.34.99/uaa-ui/webhelp/WebHelp/Performance_Management/Performance/Performance_management_settings.htm': '',\n 'https://10.186.34.99/uaa-ui/webhelp/WebHelp/Performance_Management/Performance_Management.htm': '',\n 'https://10.186.34.99/uaa-ui/webhelp/WebHelp/Performance_Management/Performance_Metric_Groups/PeformanceMetricGroups.htm': '',\n 'https://10.186.34.99/uaa-ui/webhelp/WebHelp/Performance_Management/Performance_Metric_Groups/Working_with_performance_metric_groups.htm': '',\n 'https://10.186.34.99/uaa-ui/webhelp/WebHelp/Performance_Management/Performance_Metric_Types/PerformanceMetricTypes.htm': '',\n 'https://10.186.34.99/uaa-ui/webhelp/WebHelp/Performance_Management/Performance_Metric_Types/Working_with_performance_metric_types.htm': '',\n 'https://10.186.34.99/uaa-ui/webhelp/WebHelp/Performance_Management/Performance_Metrics/PerformanceMetrics.htm': '',\n 'https://10.186.34.99/uaa-ui/webhelp/WebHelp/Performance_Management/Performance_Metrics/Working_with_performance_metrics.htm': '',\n 'https://10.186.34.99/uaa-ui/webhelp/WebHelp/Performance_Management/Performance_Monitoring_Templates/PerformanceMonitoringTemplates.htm': '',\n 'https://10.186.34.99/uaa-ui/webhelp/WebHelp/Performance_Management/Performance_Monitoring_Templates/Working_with_performance_monitoring_templates.htm': '',\n 'https://10.186.34.99/uaa-ui/webhelp/WebHelp/Performance_Management/Performance_Threshold_Policies/PerformanceThresholdPolicies.htm': '',\n 'https://10.186.34.99/uaa-ui/webhelp/WebHelp/Performance_Management/Performance_Threshold_Policies/Working_with_performance_threshold_policies.htm': '',\n 'https://10.186.34.99/uaa-ui/webhelp/WebHelp/Scheduled_Maintenance/ScheduledMaintenance.htm': '',\n 'https://10.186.34.99/uaa-ui/webhelp/WebHelp/Scheduled_Maintenance/Scheduled_Maintenance/ScheduledMaintenance.htm': '',\n 'https://10.186.34.99/uaa-ui/webhelp/WebHelp/Scheduled_Maintenance/WorkingWithScheduledMaintenance.htm': '',\n 'https://10.186.34.99/uaa-ui/webhelp/WebHelp/Service_Management/Customers/Custom_Customer_Fields/CustomCustomerFields.htm': '',\n 'https://10.186.34.99/uaa-ui/webhelp/WebHelp/Service_Management/Customers/Custom_Customer_Fields/Working_with_custom_customer_fields.htm': '',\n 'https://10.186.34.99/uaa-ui/webhelp/WebHelp/Service_Management/Customers/Customers.htm': '',\n 'https://10.186.34.99/uaa-ui/webhelp/WebHelp/Service_Management/Customers/WorkingWithCustomers.htm': '',\n 'https://10.186.34.99/uaa-ui/webhelp/WebHelp/Service_Management/Ethernet/EVCs/EVCs.htm': '',\n 'https://10.186.34.99/uaa-ui/webhelp/WebHelp/Service_Management/Ethernet/EVCs/WorkingWithEVCs.htm': '',\n 'https://10.186.34.99/uaa-ui/webhelp/WebHelp/Service_Management/Ethernet/Ethernet.htm': '',\n 'https://10.186.34.99/uaa-ui/webhelp/WebHelp/Service_Management/Ethernet/Flow_Points/FlowPoints.htm': '',\n 'https://10.186.34.99/uaa-ui/webhelp/WebHelp/Service_Management/Ethernet/Flow_Points/WorkingWithFlowpoints.htm': '',\n 'https://10.186.34.99/uaa-ui/webhelp/WebHelp/Service_Management/Ethernet/IP_SLA/IP_SLA.htm': '',\n 'https://10.186.34.99/uaa-ui/webhelp/WebHelp/Service_Management/Ethernet/IP_SLA/WorkingWithIPSLA.htm': '',\n 'https://10.186.34.99/uaa-ui/webhelp/WebHelp/Service_Management/Ethernet/Interfaces/Interfaces.htm': '',\n 'https://10.186.34.99/uaa-ui/webhelp/WebHelp/Service_Management/Ethernet/Interfaces/Working_with_interfaces.htm': '',\n 'https://10.186.34.99/uaa-ui/webhelp/WebHelp/Service_Management/Ethernet/Networks/Networks.htm': '',\n 'https://10.186.34.99/uaa-ui/webhelp/WebHelp/Service_Management/Ethernet/Networks/WorkingWithNetworks.htm': '',\n 'https://10.186.34.99/uaa-ui/webhelp/WebHelp/Service_Management/Protected_Services/ProtectedServices.htm': '',\n 'https://10.186.34.99/uaa-ui/webhelp/WebHelp/Service_Management/Protected_Services/Service_Hierarchy.htm': '',\n 'https://10.186.34.99/uaa-ui/webhelp/WebHelp/Service_Management/SLAs/Exclusion_objects.htm': '',\n 'https://10.186.34.99/uaa-ui/webhelp/WebHelp/Service_Management/SLAs/SLA/SLA.htm': '',\n 'https://10.186.34.99/uaa-ui/webhelp/WebHelp/Service_Management/SLAs/SLAs.htm': '',\n 'https://10.186.34.99/uaa-ui/webhelp/WebHelp/Service_Management/SLAs/Working_with_SLAs.htm': '',\n 'https://10.186.34.99/uaa-ui/webhelp/WebHelp/Service_Management/Service_Management.htm': '',\n 'https://10.186.34.99/uaa-ui/webhelp/WebHelp/Service_Management/Service_Types/ServiceTypes.htm': '',\n 'https://10.186.34.99/uaa-ui/webhelp/WebHelp/Service_Management/Service_Types/WorkingwithServiceTypes.htm': '',\n 'https://10.186.34.99/uaa-ui/webhelp/WebHelp/Service_Management/Services/Custom_Service_Fields/CustomServiceFields.htm': '',\n 'https://10.186.34.99/uaa-ui/webhelp/WebHelp/Service_Management/Services/Custom_Service_Fields/Working_with_custom_service_fields.htm': '',\n 'https://10.186.34.99/uaa-ui/webhelp/WebHelp/Service_Management/Services/Service/Service.htm': '',\n 'https://10.186.34.99/uaa-ui/webhelp/WebHelp/Service_Management/Services/ServiceDetails.htm': '',\n 'https://10.186.34.99/uaa-ui/webhelp/WebHelp/Service_Management/Services/Service_Templates/ServiceTemplates.htm': '',\n 'https://10.186.34.99/uaa-ui/webhelp/WebHelp/Service_Management/Services/Service_Templates/Working_with_service_templates.htm': '',\n 'https://10.186.34.99/uaa-ui/webhelp/WebHelp/Service_Management/Services/Services.htm': '',\n 'https://10.186.34.99/uaa-ui/webhelp/WebHelp/Service_Management/Services/WorkingWithServices.htm': '',\n 'https://10.186.34.99/uaa-ui/webhelp/WebHelp/System_Settings/System/Access_Control_List/AccessControlList.htm': '',\n 'https://10.186.34.99/uaa-ui/webhelp/WebHelp/System_Settings/System/Access_Control_List/WorkingWithAccessControlList.htm': '',\n 'https://10.186.34.99/uaa-ui/webhelp/WebHelp/System_Settings/System/Administrative_Domains/AdministrativeDomains.htm': '',\n 'https://10.186.34.99/uaa-ui/webhelp/WebHelp/System_Settings/System/Administrative_Domains/WorkingWithAdministrativeDomains.htm': '',\n 'https://10.186.34.99/uaa-ui/webhelp/WebHelp/System_Settings/System/Custom_Tree/CustomTree.htm': '',\n 'https://10.186.34.99/uaa-ui/webhelp/WebHelp/System_Settings/System/Custom_Tree/WorkingWithCustomTree.htm': '',\n 'https://10.186.34.99/uaa-ui/webhelp/WebHelp/System_Settings/System/Data_Retention/DataRetention.htm': '',\n 'https://10.186.34.99/uaa-ui/webhelp/WebHelp/System_Settings/System/Display_Preferences/DisplayPreferences.htm': '',\n 'https://10.186.34.99/uaa-ui/webhelp/WebHelp/System_Settings/System/External_Authentication/ExternalAuthentication.htm': '',\n 'https://10.186.34.99/uaa-ui/webhelp/WebHelp/System_Settings/System/Hotfix/Hotfix.htm': '',\n 'https://10.186.34.99/uaa-ui/webhelp/WebHelp/System_Settings/System/Licensing/Licensing.htm': '',\n 'https://10.186.34.99/uaa-ui/webhelp/WebHelp/System_Settings/System/Manage_Sound_Files/ManageSoundFiles.htm': '',\n 'https://10.186.34.99/uaa-ui/webhelp/WebHelp/System_Settings/System/Manage_Sound_Files/WorkingWithSoundFiles.htm': '',\n 'https://10.186.34.99/uaa-ui/webhelp/WebHelp/System_Settings/System/ROA_Integrator/ROAIntegrator.htm': '',\n 'https://10.186.34.99/uaa-ui/webhelp/WebHelp/System_Settings/System/SMTP/SMTP.htm': '',\n 'https://10.186.34.99/uaa-ui/webhelp/WebHelp/System_Settings/System/Sites/Sites.htm': '',\n 'https://10.186.34.99/uaa-ui/webhelp/WebHelp/System_Settings/System/Sites/WorkingWithSites.htm': '',\n 'https://10.186.34.99/uaa-ui/webhelp/WebHelp/System_Settings/System/System.htm': '',\n 'https://10.186.34.99/uaa-ui/webhelp/WebHelp/System_Settings/System/System/System.htm': '',\n 'https://10.186.34.99/uaa-ui/webhelp/WebHelp/System_Settings/System/User_Activity_Log/UserActivityLog.htm': '',\n 'https://10.186.34.99/uaa-ui/webhelp/WebHelp/System_Settings/System/User_Groups/UserGroups.htm': '',\n 'https://10.186.34.99/uaa-ui/webhelp/WebHelp/System_Settings/System/User_Groups/WorkingWithUserGroups.htm': '',\n 'https://10.186.34.99/uaa-ui/webhelp/WebHelp/System_Settings/System/Users/Users.htm': '',\n 'https://10.186.34.99/uaa-ui/webhelp/WebHelp/System_Settings/System/Users/WorkingWithUsers.htm': '',\n 'https://10.186.34.99/uaa-ui/webhelp/WebHelp/System_Settings/UserRolesandPrivileges.htm': '',\n 'https://10.186.34.99/uaa-ui/webhelp/WebHelp/Topology/AddingTopology.htm': '',\n 'https://10.186.34.99/uaa-ui/webhelp/WebHelp/Topology/Topology.htm': '',\n 'https://10.186.34.99/uaa-ui/webhelp/WebHelp/Topology/Topology/Topology.htm': '',\n 'https://10.186.34.99/uaa-ui/webhelp/WebHelp/WHAT_S_NEW/WhatsNew.htm': '',\n 'https://10.186.34.99/uaa-ui/webhelp/WebHelp//Home.htm': ''}"
     },
     "execution_count": 49,
     "metadata": {},
     "output_type": "execute_result"
    }
   ],
   "source": [
    "pages"
   ],
   "metadata": {
    "collapsed": false,
    "ExecuteTime": {
     "end_time": "2024-10-05T02:24:05.796932Z",
     "start_time": "2024-10-05T02:24:05.788238Z"
    }
   },
   "id": "359ecb7c123e353a",
   "execution_count": 49
  },
  {
   "cell_type": "code",
   "outputs": [],
   "source": [
    "# headers_to_split_on = [\n",
    "#     (\"h1\", \"Header 1\"),\n",
    "#     (\"h2\", \"Header 2\"),\n",
    "#     (\"h3\", \"Header 3\"),\n",
    "#     (\"h4\", \"Header 4\"),\n",
    "#     (\"table\", \"table\"),\n",
    "#     ('ul', 'unordered list'),\n",
    "#     ('ol', 'ordered list')\n",
    "# ]\n",
    "# \n",
    "# html_splitter = HTMLSectionSplitter(headers_to_split_on=headers_to_split_on)\n",
    "# splits = []\n",
    "# for url in pages.keys():\n",
    "#     html_header_splits = html_splitter.split_text(requests.get(url, verify=False).text)\n",
    "#     splits.append(html_header_splits)"
   ],
   "metadata": {
    "collapsed": false,
    "ExecuteTime": {
     "end_time": "2024-10-05T00:58:48.574467Z",
     "start_time": "2024-10-05T00:58:48.556646Z"
    }
   },
   "id": "fca3fe4a17fe801d",
   "execution_count": 37
  },
  {
   "cell_type": "code",
   "outputs": [
    {
     "name": "stderr",
     "output_type": "stream",
     "text": [
      "Fetching pages: 100%|##########| 215/215 [00:18<00:00, 11.77it/s]\n"
     ]
    }
   ],
   "source": [
    "from langchain_community.document_loaders import AsyncHtmlLoader\n",
    "loader = AsyncHtmlLoader(list(pages.keys()), requests_kwargs={'verify_ssl': False})\n",
    "docs = loader.load()"
   ],
   "metadata": {
    "collapsed": false,
    "ExecuteTime": {
     "end_time": "2024-10-05T00:59:15.041472Z",
     "start_time": "2024-10-05T00:58:48.783429Z"
    }
   },
   "id": "2138fb759f7b857e",
   "execution_count": 38
  },
  {
   "cell_type": "code",
   "outputs": [
    {
     "name": "stdout",
     "output_type": "stream",
     "text": [
      "AI app manager\n",
      "\n",
      "[Skip To Main Content](#)\n",
      "\n",
      "Account\n",
      "Settings\n",
      "\n",
      "---\n",
      "\n",
      "Logout\n",
      "\n",
      "* placeholder\n",
      "\n",
      "Account\n",
      "Settings\n",
      "\n",
      "---\n",
      "\n",
      "Logout\n",
      "\n",
      "Filter: \n",
      "\n",
      "* All Files\n",
      "\n",
      "Submit Search\n",
      "\n",
      "You are here: \n",
      "\n",
      "# [AI app manager A page where you can view, start, stop, schedule, update, or upload Blue Planet and user\\-created AI apps.](#)\n",
      "\n",
      "UAA provides a suite of BP\\-curated AI Apps out\\-of\\-the\\-box. In the following section, we provide detailed explanation of how to use each BP AI App. It is important to note that you also have the option to create and upload custom AI Apps into the AI Studio. For more information, see **AI Studio Administrator Guide**.\n",
      "\n",
      "The Blue Planet App Bar UI now includes the AI Studio. To manage the AI Apps select AI Studio from the App Bar UI.\n",
      "\n",
      "An App can be started and stopped by any user. Editing BP\\-created AI apps is limited to the Blue Planet team. Any user can manage custom\\-uploaded apps.\n",
      "\n",
      "For more information, see *AI Studio Administrator Guide \\> AI Apps Manager*\n",
      "section.\n",
      "\n",
      "AI Apps Manager\n"
     ]
    }
   ],
   "source": [
    "from langchain_community.document_transformers import MarkdownifyTransformer\n",
    "# TODO: learn how to use images\n",
    "md = MarkdownifyTransformer(strip=['img'])\n",
    "converted_docs = md.transform_documents(docs)\n",
    "print(converted_docs[0].page_content[:1000])"
   ],
   "metadata": {
    "collapsed": false,
    "ExecuteTime": {
     "end_time": "2024-10-05T00:59:43.157905Z",
     "start_time": "2024-10-05T00:59:15.044664Z"
    }
   },
   "id": "42ad9c3aa6edaaa8",
   "execution_count": 39
  },
  {
   "cell_type": "code",
   "outputs": [
    {
     "data": {
      "text/plain": "215"
     },
     "execution_count": 40,
     "metadata": {},
     "output_type": "execute_result"
    }
   ],
   "source": [
    "len(converted_docs)"
   ],
   "metadata": {
    "collapsed": false,
    "ExecuteTime": {
     "end_time": "2024-10-05T00:59:43.159960Z",
     "start_time": "2024-10-05T00:59:43.139107Z"
    }
   },
   "id": "2eadeed8254d76c2",
   "execution_count": 40
  },
  {
   "cell_type": "code",
   "outputs": [],
   "source": [
    "from langchain_text_splitters import MarkdownHeaderTextSplitter\n",
    "import re\n",
    "def remove_org_metadata(md_header_splits):\n",
    "    curated_md_documents = []\n",
    "    document_title = md_header_splits[0].page_content.replace('\\n', '').replace('  ', ' ').split('Release')[0].strip()\n",
    "    md_header_splits = md_header_splits[1:]\n",
    "    for doc in md_header_splits:\n",
    "        if not (\"table of contents\" in doc.metadata.get(\"Header 1\", '').lower() or\n",
    "                \"publication history\" in doc.metadata.get(\"Header 1\", '').lower() or\n",
    "                \"contacting blue planet\" in doc.metadata.get(\"Header 1\", '').lower() or\n",
    "                \"legal notices\" in doc.metadata.get(\"Header 1\",'').lower()):\n",
    "            doc.metadata[\"Document Title\"] = document_title\n",
    "            curated_md_documents.append(doc)\n",
    "    return curated_md_documents\n",
    "\n",
    "def md_splitter(pdf_content_as_Md):\n",
    "\n",
    "    headers_to_split_on = [\n",
    "        (\"#\", \"Header 1\"),\n",
    "        (\"##\", \"Header 2\"),\n",
    "        (\"###\", \"Header 3\"),\n",
    "    ]\n",
    "\n",
    "    markdown_splitter = MarkdownHeaderTextSplitter(headers_to_split_on, strip_headers=False)\n",
    "    md_chunks = markdown_splitter.split_text(pdf_content_as_Md.page_content)\n",
    "    for chunk in md_chunks:\n",
    "        chunk.metadata = {**pdf_content_as_Md.metadata, **chunk.metadata}\n",
    "    return remove_org_metadata(md_chunks)\n",
    "\n",
    "\n",
    "def remove_reference(text):\n",
    "    return re.sub(r'!\\[.*?\\]\\(.*?\\)', '', text)"
   ],
   "metadata": {
    "collapsed": false,
    "ExecuteTime": {
     "end_time": "2024-10-05T00:59:43.206544Z",
     "start_time": "2024-10-05T00:59:43.163320Z"
    }
   },
   "id": "b58263a392a9296a",
   "execution_count": 41
  },
  {
   "cell_type": "code",
   "outputs": [],
   "source": [
    "splits = []\n",
    "for doc in converted_docs:\n",
    "    splits.append(md_splitter(doc))"
   ],
   "metadata": {
    "collapsed": false,
    "ExecuteTime": {
     "end_time": "2024-10-05T00:59:43.353918Z",
     "start_time": "2024-10-05T00:59:43.188845Z"
    }
   },
   "id": "e9f5fee8967779c9",
   "execution_count": 42
  },
  {
   "cell_type": "code",
   "outputs": [],
   "source": [
    "pdf_path = '/home/smohamme/RAG/SAM_RAG_CIENA/Ciena_pdfs'\n",
    "Save_intermediate_Files = True\n",
    "Create_VectorDB = True\n",
    "persist_directory = None\n",
    "embedding_model_name = \"sentence-transformers/all-MiniLM-L6-v2\"\n",
    "use_gpu = True\n",
    "model_name = embedding_model_name\n",
    "\n",
    "model_kwargs = {\"device\": 'cpu'}\n",
    "\n",
    "free_md_chunks = splits"
   ],
   "metadata": {
    "collapsed": false,
    "ExecuteTime": {
     "end_time": "2024-10-05T00:59:43.373233Z",
     "start_time": "2024-10-05T00:59:43.362132Z"
    }
   },
   "id": "c3f6c56b3ae95fd4",
   "execution_count": 43
  },
  {
   "cell_type": "code",
   "outputs": [
    {
     "name": "stderr",
     "output_type": "stream",
     "text": [
      "/Users/bwubete/opt/anaconda3/envs/bpa_ai_sdk_new/lib/python3.10/site-packages/transformers/tokenization_utils_base.py:1617: FutureWarning: `clean_up_tokenization_spaces` was not set. It will be set to `True` by default. This behavior will be deprecated in transformers v4.45, and will be then set to `False` by default. For more details check this issue: https://github.com/huggingface/transformers/issues/31884\n",
      "  warnings.warn(\n"
     ]
    }
   ],
   "source": [
    "from langchain_community.embeddings import HuggingFaceBgeEmbeddings\n",
    "from langchain_community.vectorstores import Chroma\n",
    "\n",
    "# merge list of lists splitted_md into a single list\n",
    "merged_md = []\n",
    "for md in free_md_chunks:\n",
    "    merged_md.extend(md)\n",
    "\n",
    "\n",
    "embedding = HuggingFaceBgeEmbeddings(\n",
    "    model_name=model_name, model_kwargs=model_kwargs\n",
    ")\n",
    "\n",
    "summary_db = Chroma.from_documents(merged_md, embedding)"
   ],
   "metadata": {
    "collapsed": false,
    "ExecuteTime": {
     "end_time": "2024-10-05T00:59:53.061692Z",
     "start_time": "2024-10-05T00:59:43.383710Z"
    }
   },
   "id": "cff1cfd3146e06d0",
   "execution_count": 44
  },
  {
   "cell_type": "code",
   "outputs": [],
   "source": [
    "from langchain_core.documents import Document\n",
    "from typing import List\n",
    "from langchain_core.prompts import ChatPromptTemplate\n",
    "from langchain_core.runnables import RunnablePassthrough\n",
    "from llm_model import BpaOpenAILLM\n",
    "\n",
    "\n",
    "c_rtrvr = summary_db.as_retriever()\n",
    "llm = BpaOpenAILLM(model_name='test-model', model_id = '5', base_address='https://gptapi.ciena.com/', okta_domain='ciena.okta.com', okta_custom_scope='api', client_secret='uNU1c9Vl01WfkBdQDUivZr0O1pR3qxJpe5js3d1PJhwqGO63WEvqvOXgBux9dRyi', client_id='0oa1x6yhddqyoeoTY0h8')\n",
    "\n",
    "xml_system = \"\"\"You're a helpful AI assistant. Given a user question and some article snippets, \\\n",
    "answer the user question and provide citations. If none of the articles answer the question, just say you don't know.\n",
    "\n",
    "Remember, you must return both an answer and citations. A citation consists of a VERBATIM quote that \\\n",
    "justifies the answer and the ID of the quote article. Return a citation for every quote across all articles \\\n",
    "that justify the answer. Use the following format for your final output:\n",
    "\n",
    "<cited_answer>\n",
    "    <answer></answer>\n",
    "    <citations>\n",
    "        <citation><source_id></source_id><quote></quote></citation>\n",
    "        <citation><source_id></source_id><quote></quote></citation>\n",
    "        ...\n",
    "    </citations>\n",
    "</cited_answer>\n",
    "\n",
    "Here are the articles:{context}\"\"\"\n",
    "\n",
    "def format_docs_xml(docs: List[Document]) -> str:\n",
    "    formatted = []\n",
    "    for i, doc in enumerate(docs):\n",
    "        doc_str = f\"\"\"\\\n",
    "    <source id=\\\"{i}\\\">\n",
    "        <title>{doc.metadata['Document Title']}</title>\n",
    "        <article_snippet>{doc.page_content}</article_snippet>\n",
    "    </source>\"\"\"\n",
    "        formatted.append(doc_str)\n",
    "    return \"\\n\\n<sources>\" + \"\\n\".join(formatted) + \"</sources>\"\n",
    "\n",
    "xml_prompt = ChatPromptTemplate.from_messages(\n",
    "    [(\"system\", xml_system), (\"human\", \"{input}\")]\n",
    ")\n",
    "\n",
    "\n",
    "rag_chain_from_docs = (\n",
    "        RunnablePassthrough.assign(context=(lambda x: format_docs_xml(x[\"context\"])))\n",
    "        | xml_prompt\n",
    "        | llm\n",
    ")\n",
    "retrieve_docs = (lambda x: x[\"input\"]) | c_rtrvr\n",
    "\n",
    "chain = RunnablePassthrough.assign(context=retrieve_docs).assign(\n",
    "    answer=rag_chain_from_docs\n",
    ")\n"
   ],
   "metadata": {
    "collapsed": false,
    "ExecuteTime": {
     "end_time": "2024-10-05T00:59:53.074395Z",
     "start_time": "2024-10-05T00:59:53.070755Z"
    }
   },
   "id": "f517d97c93064867",
   "execution_count": 45
  },
  {
   "cell_type": "code",
   "outputs": [],
   "source": [
    "from langchain.chains.retrieval import create_retrieval_chain\n",
    "from langchain.chains.combine_documents import create_stuff_documents_chain\n",
    "from langchain.chains.retrieval_qa.base import RetrievalQA\n",
    "from langchain.retrievers import ContextualCompressionRetriever\n",
    "from langchain.retrievers.document_compressors import LLMChainExtractor\n",
    "\n",
    "system_prompt = (\n",
    "    \"Use the given context to answer the question. Only use information from the context. Return the answer in github markdown\"\n",
    "    \"If you don't know the answer, say you don't know. \"\n",
    "    \"Context: {context}\"\n",
    ")\n",
    "prompt = ChatPromptTemplate.from_messages(\n",
    "    [\n",
    "        (\"system\", system_prompt),\n",
    "        (\"human\", \"{input}\"),\n",
    "    ]\n",
    ")\n",
    "\n",
    "\n",
    "\n",
    "compressor = LLMChainExtractor.from_llm(llm)\n",
    "compression_retriever = ContextualCompressionRetriever(\n",
    "    base_compressor=compressor,\n",
    "    base_retriever=c_rtrvr,\n",
    ")\n",
    "# qa_chain = RetrievalQA.from_chain_type(\n",
    "#     llm=llm,\n",
    "#     chain_type=\"stuff\",\n",
    "#     retriever=compression_retriever,\n",
    "#     return_source_documents=True\n",
    "# )\n",
    "\n",
    "question_answer_chain = create_stuff_documents_chain(llm, prompt)\n",
    "qa_chain = create_retrieval_chain(summary_db.as_retriever(), question_answer_chain)"
   ],
   "metadata": {
    "collapsed": false,
    "ExecuteTime": {
     "end_time": "2024-10-05T14:52:47.201094Z",
     "start_time": "2024-10-05T14:52:47.194838Z"
    }
   },
   "id": "cd547a5f0b7fc0ca",
   "execution_count": 52
  },
  {
   "cell_type": "code",
   "outputs": [
    {
     "data": {
      "text/plain": "{'input': 'give me a table of topology settings',\n 'context': [Document(metadata={'Document Title': 'Adding topology view [Skip To Main Content](#) AccountSettings --- Logout * placeholder AccountSettings --- Logout Filter: * All Files Submit Search You are here:', 'Header 2': 'Adding topology view', 'language': 'en-us', 'source': 'https://10.186.34.99/uaa-ui/webhelp/WebHelp/Topology/AddingTopology.htm', 'title': 'Adding topology view'}, page_content='## Adding topology view  \\nThis section describes the procedure to add a subnetwork or node to topology view, which can be saved for future viewing.  \\nFollow the given steps to add a new Topology view:  \\n1. Open **Topology** from the Navigation Menu.\\n2. Click **\\\\+** icon to create a new Topology.  \\nTopology \\\\- Creating a new Topology view\\n3. Select a Subnet / Node from Network Tree, perform a global search or apply query filter to create a topology view.\\n4. In the **Name** field, enter a Name for the topology.  \\nUser can use a combination of filters such as layer filter, network tree filter, global search, query filter and hop\\\\-count filter (single node)\\n5. Select either **Logical** or **Physical** view.\\n6. Select appropriate permissions for users to access the topology and click **Add** from the menu on the right hand side.  \\nTo **edit** a Topology view, you can simply select the desired topology from the **Topology list** and click the **edit** icon on the toolbar.  \\nThere are user privileges defined to access different features/components of UAA. For detailed information, see [User Roles and Privileges](../System_Settings/UserRolesandPrivileges.htm \"User Roles and Privileges\").'),\n  Document(metadata={'Document Title': 'Adding topology view [Skip To Main Content](#) AccountSettings --- Logout * placeholder AccountSettings --- Logout Filter: * All Files Submit Search You are here:', 'Header 2': 'Adding topology view', 'language': 'en-us', 'source': 'https://10.186.34.99/uaa-ui/webhelp/WebHelp/Topology/AddingTopology.htm', 'title': 'Adding topology view'}, page_content='## Adding topology view  \\nThis section describes the procedure to add a subnetwork or node to topology view, which can be saved for future viewing.  \\nFollow the given steps to add a new Topology view:  \\n1. Open **Topology** from the Navigation Menu.\\n2. Click **\\\\+** icon to create a new Topology.  \\nTopology \\\\- Creating a new Topology view\\n3. Select a Subnet / Node from Network Tree, perform a global search or apply query filter to create a topology view.\\n4. In the **Name** field, enter a Name for the topology.  \\nUser can use a combination of filters such as layer filter, network tree filter, global search, query filter and hop\\\\-count filter (single node)\\n5. Select either **Logical** or **Physical** view.\\n6. Select appropriate permissions for users to access the topology and click **Add** from the menu on the right hand side.  \\nTo **edit** a Topology view, you can simply select the desired topology from the **Topology list** and click the **edit** icon on the toolbar.  \\nThere are user privileges defined to access different features/components of UAA. For detailed information, see [User Roles and Privileges](../System_Settings/UserRolesandPrivileges.htm \"User Roles and Privileges\").'),\n  Document(metadata={'Document Title': 'Topology [Skip To Main Content](#) AccountSettings --- Logout * placeholder AccountSettings --- Logout Filter: * All Files Submit Search You are here:', 'Header 1': '[Topology Network Topology viewer gives a physical and logical view of the network by projecting the Network Elements (nodes) on top of a geographical map. This provides a realistic overview of the network layout and interconnections.](#)', 'language': 'en-us', 'source': 'https://10.186.34.99/uaa-ui/webhelp/WebHelp/Topology/Topology.htm', 'title': 'Topology'}, page_content='# [Topology Network Topology viewer gives a physical and logical view of the network by projecting the Network Elements (nodes) on top of a geographical map. This provides a realistic overview of the network layout and interconnections.](#)  \\nUAA Network Topology viewer gives a physical as well as logical view of the network by projecting the Network Elements (nodes) on top of a geographical map. This gives the user a realistic overview of the network layout and its interconnections.  \\nThe Topology page enables us to save the required view of a sub\\\\-net or a node for future reference. Topology page shows services from the reference of node details rather than service details.  \\nThe Topology view is physical by default. You can switch to Logical view using the Logical icon on the top of the panel.  \\nTopology View  \\n* The tree shows all the sub\\\\-nets and nodes added to topology view as shown in the image above.\\n* The topological view for a sub\\\\-net / node, shows all the nodes which are related to the selected sub\\\\-net / node and also the service between the nodes is displayed. The color of the node and the service line is based on the highest severity alarm on it.\\n* If you select any node on the topology view, the details of the selected node gets displayed on the right pane.\\n* See [Adding a Topology View](AddingTopology.htm \"Adding a Topology View\") for more information.\\n* The topology layers are customized under the [Topology Settings](Topology/Topology.htm \"Topology Settings\") and helps in assigning different layers to services. Once assigned, they reflect on the Topology page.  \\nClick on any of the node and you would be able to see the information panel on the right side of the screen. To increase the viewing area of graph panel, you can hide the Topology tree from using the tree icon on the top.  \\nTopology View \\\\- Information Panel of selected Node  \\nClick on the Hide/Show \\\\- Graph/Info Panel **« »** icon to increase the viewing area of the respective panels. The setting also gets stored so that you get the same viewing experience as customized.  \\n[Working with information panel](#)  \\nThe Information Panel has 5 different tabs which displays performance and monitoring related information of the selected node. See figure above for information. Let\\'s discuss each tab \\\\-  \\n[Summary tab](#)  \\nThis is the default tab which is displayed when you access the Information Panel of a node. The Summary Tab provides following information \\\\-  \\n**Node details** Description, IP address, Availability of the node, Number of Ethernet ports.  \\n**Alarm count for different severity** Alarms with different severity are represented with respective color boxes. The total number of alarms standing for every severity will be shown in those boxes. The count includes unacknowledged alarms, acknowledged alarms, deferred alarms, and suppressed alarms.  \\nTopology View \\\\- Information Panel \\\\- Event Summary  \\n**Last 24 Hours Event Summary** Displays the total number of alarms and events raised with different severity in last 24 hours as a bar chart as shown in Figure below. Every single bar represents an alarm severity.  \\nIf you mouse\\\\-hover any bar, total number of alarms raised with that severity on the selected node in last 24 hours gets displayed in the tool tip.  \\nThe severities are:  \\n* Communication\\n* Critical\\n* Major\\n* Minor\\n* Warning\\n* Info\\n* Indeterminate  \\nClicking on any bar on the chart, displays the complete summary graph of selected alarm severity for last 24 hours.  \\nFor the selected severity, every different alarm raised is represented as one bar. When you mouse\\\\-hover on any bar, the tool tip shows the raised time and date, and the total count of that alarm raised at that time.  \\nTopology View \\\\- Information Panel \\\\- Event Summary \\\\- Expanded  \\nClick the arrow icon on the right\\\\-hand side on the chart to close the Expanded view.  \\n**Application Monitor Summary** This panel shows status and name of the application monitor. The color represents the severity of alarm raised against the corresponding application monitor.  \\nThe application monitor details page is shown when any application monitor is clicked, as shown in figure below.  \\nTopology View \\\\- Information Panel \\\\- Application Monitor Summary \\\\- Expanded  \\nSee Node [Application Monitor Details](../Network_Data_Collection_and_Discovery/Application_Monitors/NodeApplicationMonitorDetails.htm \"Application Monitor Details\") page for more information.  \\n**Performance Summary** The table below Application Monitor Summary provides information about the performance metrics associated with the node, such as \\\\-  \\n* Name of the performance metrics\\n* Description\\n* Current Value of the metric\\n* Value of the metric in Last 1 Hour\\n* Value of the metric in Last 1 Day\\n* Unit of measurement of the metric value such as %, millisecond and so on  \\nTopology View \\\\- Information Panel \\\\- Performance Summary  \\nTo see all the columns for the rows of metrics, scroll down completely using the vertical scroll bar; you will find a horizontal scroll bar at the bottom. Use the horizontal scroll bar to view the columns.  \\n[Alarm tab](#)  \\nIt displays information about all the alarm list for the selected node. Alarm details will be listed in a tabular form which is same as Alarms and Events page.  \\nBy default the tab lists only the alarms that are currently standing. to view event history of particular time period, use the drop\\\\-down list next to the Ack icon on the toolbar.  \\nTopology View \\\\- Information Panel \\\\- Alarms  \\nYou can also perform following action:  \\n* View event history  \\nThis action can be performed on [Alarms and Events](../Fault_Management/Alarms_and_Events/AlarmsAndEvents.htm \"Alarms and Events\") page as well.  \\nTo see all the columns for the rows of alarms, scroll down completely using the vertical scroll bar; you will find a horizontal scroll bar at the bottom, use it to scroll left or right to view information.  \\n**All Alarms** is selected by default and will show all alarms raised in the selected node. The color code is set as per the alarm severity.  \\nThe columns are derived from the columns available on the [Alarms and Events](../Fault_Management/Alarms_and_Events/AlarmsAndEvents.htm \"Alarms and Events\") page.  \\n[Metric tab](#)  \\nThe Metric tab displays node level performance metrics on charts. The performance Metrics details are displayed based on the metrics added on node end points.  \\nTopology View \\\\- Information Panel \\\\- Metrics  \\nYou can hover on the chart options on the right corner and access more options such as \\\\-  \\n* **Restore zoom to default** \\\\- will restore the zoom to default size.\\n* **Zoom** \\\\- will zoom the chart for more clear picture.\\n* **Zoom Reset** \\\\- will reset the zoom level to 100%.\\n* **Download** \\\\- will download the chart in png, jpg, svg, pdf, or csv format.\\n* **Toggle view as table** \\\\- will switch the current chart view into table format.\\n* **Toggle datasets by row** \\\\- will switch the current/default chart view rows with datasets.\\n* **Full Screen** \\\\- will add the table format below of the current chart.  \\nDate Range  \\nData Range option is used to view the alarms raised for a Node/Subnet in a given period of time.  \\nThe following table lists the various Data Range options available \\\\-  \\n| Current | Current alarms raised in a Node/Subnet can be viewed |\\n| --- | --- |\\n| Day | Alarms raised in the last 24 hours can be viewed |\\n| Week | Alarms raised in the last one week can be viewed |\\n| Month | Alarms raised in the last one month can be viewed |\\n| Year | Alarms raised in the last one can be viewed |\\n| Custom | Alarms raised for a specific period can be viewed |  \\n[Endpoints tab](#)  \\nEnd points tab shows the availability of all the end points associated with the selected node and the utilization metrics values. If you click the link of any end point, then the corresponding End Point Details page is displayed similar to Node Details page.  \\nTopology View \\\\- Information Panel \\\\- End Points  \\n[Interfaces tab](#)  \\nThe Interfaces tab lists all the Ethernet interfaces managed by the system for the selected node. All the columns displayed in this tab are similar to the [Interface page](../Service_Management/Ethernet/Interfaces/Interfaces.htm \"Interface page\"). If you click the link of any Interface, then the corresponding Interface details page is displayed.  \\nTopology View \\\\- Information Panel \\\\- Interfaces  \\nYou can download the complete Interfaces table by clicking on the download icon.  \\n[Viewing service details in physical topology](#)  \\nYou can view summary details in physical topology by clicking the service line which connects nodes or node clusters. A pop\\\\-up appears displaying the name of the service or network connection. The displayed name has a hyperlink to navigate to the respective summary panel for the selected service or network connections.  \\nTopology View \\\\- Service name \\\\- Physical line  \\nAn additional tab with Service Hierarchy for dependent and dependency services of the physical line is shown.  \\nTopology View \\\\- Service hierarchy \\\\- Physical line  \\nThe above mentioned feature is available for the [[Node Details](../Network_Resources/Nodes/NodeDetails.htm \"Node Details\")](../Network_Resources/Nodes/NodeDetails.htm \"Node details\") and [Service details](../Service_Management/Services/ServiceDetails.htm \"Service details\") pages.  \\n[Cluster](#)  \\nA group of nodes located at a specific geographical location is called a Cluster. If the cluster is enabled then the group of nodes form a cluster as shown in the image below \\\\-  \\nTopology View \\\\- Clusters  \\nIf the cluster is disabled then the scattered view of the nodes appear on the map.  \\n[Logical topology](#)  \\nLogical topology defines how the nodes are connected to a service in a logical view. You can view only the nodes and the subnetwork as shown in the image below \\\\-  \\nTopology \\\\- Logical View  \\nThere are user privileges defined to access different features/components of UAA. For detailed information, see [User Roles and Privileges](../System_Settings/UserRolesandPrivileges.htm \"User Roles and Privileges\").'),\n  Document(metadata={'Document Title': 'Topology [Skip To Main Content](#) AccountSettings --- Logout * placeholder AccountSettings --- Logout Filter: * All Files Submit Search You are here:', 'Header 1': '[Topology Network Topology viewer gives a physical and logical view of the network by projecting the Network Elements (nodes) on top of a geographical map. This provides a realistic overview of the network layout and interconnections.](#)', 'language': 'en-us', 'source': 'https://10.186.34.99/uaa-ui/webhelp/WebHelp/Topology/Topology.htm', 'title': 'Topology'}, page_content='# [Topology Network Topology viewer gives a physical and logical view of the network by projecting the Network Elements (nodes) on top of a geographical map. This provides a realistic overview of the network layout and interconnections.](#)  \\nUAA Network Topology viewer gives a physical as well as logical view of the network by projecting the Network Elements (nodes) on top of a geographical map. This gives the user a realistic overview of the network layout and its interconnections.  \\nThe Topology page enables us to save the required view of a sub\\\\-net or a node for future reference. Topology page shows services from the reference of node details rather than service details.  \\nThe Topology view is physical by default. You can switch to Logical view using the Logical icon on the top of the panel.  \\nTopology View  \\n* The tree shows all the sub\\\\-nets and nodes added to topology view as shown in the image above.\\n* The topological view for a sub\\\\-net / node, shows all the nodes which are related to the selected sub\\\\-net / node and also the service between the nodes is displayed. The color of the node and the service line is based on the highest severity alarm on it.\\n* If you select any node on the topology view, the details of the selected node gets displayed on the right pane.\\n* See [Adding a Topology View](AddingTopology.htm \"Adding a Topology View\") for more information.\\n* The topology layers are customized under the [Topology Settings](Topology/Topology.htm \"Topology Settings\") and helps in assigning different layers to services. Once assigned, they reflect on the Topology page.  \\nClick on any of the node and you would be able to see the information panel on the right side of the screen. To increase the viewing area of graph panel, you can hide the Topology tree from using the tree icon on the top.  \\nTopology View \\\\- Information Panel of selected Node  \\nClick on the Hide/Show \\\\- Graph/Info Panel **« »** icon to increase the viewing area of the respective panels. The setting also gets stored so that you get the same viewing experience as customized.  \\n[Working with information panel](#)  \\nThe Information Panel has 5 different tabs which displays performance and monitoring related information of the selected node. See figure above for information. Let\\'s discuss each tab \\\\-  \\n[Summary tab](#)  \\nThis is the default tab which is displayed when you access the Information Panel of a node. The Summary Tab provides following information \\\\-  \\n**Node details** Description, IP address, Availability of the node, Number of Ethernet ports.  \\n**Alarm count for different severity** Alarms with different severity are represented with respective color boxes. The total number of alarms standing for every severity will be shown in those boxes. The count includes unacknowledged alarms, acknowledged alarms, deferred alarms, and suppressed alarms.  \\nTopology View \\\\- Information Panel \\\\- Event Summary  \\n**Last 24 Hours Event Summary** Displays the total number of alarms and events raised with different severity in last 24 hours as a bar chart as shown in Figure below. Every single bar represents an alarm severity.  \\nIf you mouse\\\\-hover any bar, total number of alarms raised with that severity on the selected node in last 24 hours gets displayed in the tool tip.  \\nThe severities are:  \\n* Communication\\n* Critical\\n* Major\\n* Minor\\n* Warning\\n* Info\\n* Indeterminate  \\nClicking on any bar on the chart, displays the complete summary graph of selected alarm severity for last 24 hours.  \\nFor the selected severity, every different alarm raised is represented as one bar. When you mouse\\\\-hover on any bar, the tool tip shows the raised time and date, and the total count of that alarm raised at that time.  \\nTopology View \\\\- Information Panel \\\\- Event Summary \\\\- Expanded  \\nClick the arrow icon on the right\\\\-hand side on the chart to close the Expanded view.  \\n**Application Monitor Summary** This panel shows status and name of the application monitor. The color represents the severity of alarm raised against the corresponding application monitor.  \\nThe application monitor details page is shown when any application monitor is clicked, as shown in figure below.  \\nTopology View \\\\- Information Panel \\\\- Application Monitor Summary \\\\- Expanded  \\nSee Node [Application Monitor Details](../Network_Data_Collection_and_Discovery/Application_Monitors/NodeApplicationMonitorDetails.htm \"Application Monitor Details\") page for more information.  \\n**Performance Summary** The table below Application Monitor Summary provides information about the performance metrics associated with the node, such as \\\\-  \\n* Name of the performance metrics\\n* Description\\n* Current Value of the metric\\n* Value of the metric in Last 1 Hour\\n* Value of the metric in Last 1 Day\\n* Unit of measurement of the metric value such as %, millisecond and so on  \\nTopology View \\\\- Information Panel \\\\- Performance Summary  \\nTo see all the columns for the rows of metrics, scroll down completely using the vertical scroll bar; you will find a horizontal scroll bar at the bottom. Use the horizontal scroll bar to view the columns.  \\n[Alarm tab](#)  \\nIt displays information about all the alarm list for the selected node. Alarm details will be listed in a tabular form which is same as Alarms and Events page.  \\nBy default the tab lists only the alarms that are currently standing. to view event history of particular time period, use the drop\\\\-down list next to the Ack icon on the toolbar.  \\nTopology View \\\\- Information Panel \\\\- Alarms  \\nYou can also perform following action:  \\n* View event history  \\nThis action can be performed on [Alarms and Events](../Fault_Management/Alarms_and_Events/AlarmsAndEvents.htm \"Alarms and Events\") page as well.  \\nTo see all the columns for the rows of alarms, scroll down completely using the vertical scroll bar; you will find a horizontal scroll bar at the bottom, use it to scroll left or right to view information.  \\n**All Alarms** is selected by default and will show all alarms raised in the selected node. The color code is set as per the alarm severity.  \\nThe columns are derived from the columns available on the [Alarms and Events](../Fault_Management/Alarms_and_Events/AlarmsAndEvents.htm \"Alarms and Events\") page.  \\n[Metric tab](#)  \\nThe Metric tab displays node level performance metrics on charts. The performance Metrics details are displayed based on the metrics added on node end points.  \\nTopology View \\\\- Information Panel \\\\- Metrics  \\nYou can hover on the chart options on the right corner and access more options such as \\\\-  \\n* **Restore zoom to default** \\\\- will restore the zoom to default size.\\n* **Zoom** \\\\- will zoom the chart for more clear picture.\\n* **Zoom Reset** \\\\- will reset the zoom level to 100%.\\n* **Download** \\\\- will download the chart in png, jpg, svg, pdf, or csv format.\\n* **Toggle view as table** \\\\- will switch the current chart view into table format.\\n* **Toggle datasets by row** \\\\- will switch the current/default chart view rows with datasets.\\n* **Full Screen** \\\\- will add the table format below of the current chart.  \\nDate Range  \\nData Range option is used to view the alarms raised for a Node/Subnet in a given period of time.  \\nThe following table lists the various Data Range options available \\\\-  \\n| Current | Current alarms raised in a Node/Subnet can be viewed |\\n| --- | --- |\\n| Day | Alarms raised in the last 24 hours can be viewed |\\n| Week | Alarms raised in the last one week can be viewed |\\n| Month | Alarms raised in the last one month can be viewed |\\n| Year | Alarms raised in the last one can be viewed |\\n| Custom | Alarms raised for a specific period can be viewed |  \\n[Endpoints tab](#)  \\nEnd points tab shows the availability of all the end points associated with the selected node and the utilization metrics values. If you click the link of any end point, then the corresponding End Point Details page is displayed similar to Node Details page.  \\nTopology View \\\\- Information Panel \\\\- End Points  \\n[Interfaces tab](#)  \\nThe Interfaces tab lists all the Ethernet interfaces managed by the system for the selected node. All the columns displayed in this tab are similar to the [Interface page](../Service_Management/Ethernet/Interfaces/Interfaces.htm \"Interface page\"). If you click the link of any Interface, then the corresponding Interface details page is displayed.  \\nTopology View \\\\- Information Panel \\\\- Interfaces  \\nYou can download the complete Interfaces table by clicking on the download icon.  \\n[Viewing service details in physical topology](#)  \\nYou can view summary details in physical topology by clicking the service line which connects nodes or node clusters. A pop\\\\-up appears displaying the name of the service or network connection. The displayed name has a hyperlink to navigate to the respective summary panel for the selected service or network connections.  \\nTopology View \\\\- Service name \\\\- Physical line  \\nAn additional tab with Service Hierarchy for dependent and dependency services of the physical line is shown.  \\nTopology View \\\\- Service hierarchy \\\\- Physical line  \\nThe above mentioned feature is available for the [[Node Details](../Network_Resources/Nodes/NodeDetails.htm \"Node Details\")](../Network_Resources/Nodes/NodeDetails.htm \"Node details\") and [Service details](../Service_Management/Services/ServiceDetails.htm \"Service details\") pages.  \\n[Cluster](#)  \\nA group of nodes located at a specific geographical location is called a Cluster. If the cluster is enabled then the group of nodes form a cluster as shown in the image below \\\\-  \\nTopology View \\\\- Clusters  \\nIf the cluster is disabled then the scattered view of the nodes appear on the map.  \\n[Logical topology](#)  \\nLogical topology defines how the nodes are connected to a service in a logical view. You can view only the nodes and the subnetwork as shown in the image below \\\\-  \\nTopology \\\\- Logical View  \\nThere are user privileges defined to access different features/components of UAA. For detailed information, see [User Roles and Privileges](../System_Settings/UserRolesandPrivileges.htm \"User Roles and Privileges\").')],\n 'answer': '```markdown\\n| Setting                  | Description                                                                                      |\\n|--------------------------|--------------------------------------------------------------------------------------------------|\\n| Layer Filter             | Allows filtering based on network layers.                                                        |\\n| Network Tree Filter      | Filters nodes and subnets based on the network tree structure.                                   |\\n| Global Search            | Enables searching for specific nodes or subnets globally across the network.                     |\\n| Query Filter             | Applies specific query conditions to filter the topology view.                                   |\\n| Hop-Count Filter         | Filters based on the number of hops from a single node.                                          |\\n| Logical View             | Displays the logical connections between nodes and services.                                     |\\n| Physical View            | Displays the physical layout and connections of the network elements on a geographical map.       |\\n| User Permissions         | Sets access permissions for different users to view or modify the topology.                      |\\n| Topology Layers          | Customizes and assigns different layers to services, which reflect on the topology page.         |\\n| Cluster View             | Groups nodes located at a specific geographical location into clusters.                          |\\n| Summary Tab              | Displays node details, alarm counts, and event summaries.                                        |\\n| Alarm Tab                | Shows a list of all alarms for the selected node.                                                |\\n| Metric Tab               | Displays performance metrics for the selected node in chart format.                              |\\n| Endpoints Tab            | Shows the availability and utilization metrics of all endpoints associated with the selected node.|\\n| Interfaces Tab           | Lists all Ethernet interfaces managed by the system for the selected node.                       |\\n| Service Details          | Provides summary details of services in physical topology.                                       |\\n| Service Hierarchy        | Displays dependent and dependency services of the physical line.                                 |\\n```\\n'}"
     },
     "execution_count": 53,
     "metadata": {},
     "output_type": "execute_result"
    }
   ],
   "source": [
    "query = 'give me a table of topology settings'\n",
    "# Perform RAG: Run RAG Chain\n",
    "llm_answer = qa_chain.invoke({'input': query})\n",
    "\n",
    "llm_answer"
   ],
   "metadata": {
    "collapsed": false,
    "ExecuteTime": {
     "end_time": "2024-10-05T14:52:52.737323Z",
     "start_time": "2024-10-05T14:52:47.410793Z"
    }
   },
   "id": "12f5a0299df12f14",
   "execution_count": 53
  },
  {
   "cell_type": "code",
   "outputs": [
    {
     "data": {
      "text/plain": "('Based on the provided articles, here is a table summarizing the topology settings:\\n\\n| Setting | Description |\\n| --- | --- |\\n| **Layer Filter** | Helps in assigning different layers to services, which reflect on the Topology page. |\\n| **Network Tree Filter** | Allows filtering based on the network tree structure. |\\n| **Global Search** | Enables searching across the entire network. |\\n| **Query Filter** | Allows applying specific queries to filter the topology view. |\\n| **Hop-Count Filter** | Filters based on the number of hops from a single node. |\\n| **Logical/Physical View** | Option to switch between logical and physical views of the topology. |\\n| **User Permissions** | Settings for user access permissions to the topology. |\\n| **Cluster** | Option to enable or disable clusters of nodes based on geographical location. |\\n| **Information Panel Tabs** | Includes Summary, Alarms, Metrics, Endpoints, and Interfaces tabs for detailed node information. |\\n\\n    ',\n 'User can use a combination of filters such as layer filter, network tree filter, global search, query filter and hop-count filter (single node)',\n '0')"
     },
     "execution_count": 47,
     "metadata": {},
     "output_type": "execute_result"
    }
   ],
   "source": [
    "from langchain_core.output_parsers import XMLOutputParser\n",
    "\n",
    "\n",
    "def xml_parser(ai_response_with_citation):\n",
    "    prs = XMLOutputParser()\n",
    "    if  isinstance(ai_response_with_citation, dict):\n",
    "        output = prs.parse(text=ai_response_with_citation['answer'].content)\n",
    "    else:\n",
    "        output = prs.parse(text=ai_response_with_citation)\n",
    "    bot_response = output.get('cited_answer')[0]['answer']\n",
    "\n",
    "    quote = output.get('cited_answer')[1].get('citations')[0].get('citation')[1].get('quote')\n",
    "    reference_id = output.get('cited_answer')[1].get('citations')[0].get('citation')[0].get('source_id')\n",
    "\n",
    "    return bot_response, quote, reference_id\n",
    "xml_parser(llm_answer)"
   ],
   "metadata": {
    "collapsed": false,
    "ExecuteTime": {
     "end_time": "2024-10-05T01:00:45.713357Z",
     "start_time": "2024-10-05T01:00:45.638183Z"
    }
   },
   "id": "56658ab129e3c953",
   "execution_count": 47
  },
  {
   "cell_type": "code",
   "outputs": [],
   "source": [
    "def citation_generator(reference_id, ai_response_with_citation):\n",
    "    try:\n",
    "        reference_id = int(reference_id)\n",
    "        cited_doc = ai_response_with_citation.get('context')[reference_id]\n",
    "        citation = ''\n",
    "        for key, value in cited_doc.metadata.items():\n",
    "            citation += f' **{key}**: {value} - '\n",
    "        return citation\n",
    "    except:\n",
    "        return None"
   ],
   "metadata": {
    "collapsed": false,
    "ExecuteTime": {
     "end_time": "2024-10-04T19:37:15.896691Z",
     "start_time": "2024-10-04T19:37:15.889209Z"
    }
   },
   "id": "256cbcc8fd84261c",
   "execution_count": 105
  },
  {
   "cell_type": "code",
   "outputs": [],
   "source": [
    "bot_response, quote, ref_id = xml_parser(llm_answer)"
   ],
   "metadata": {
    "collapsed": false,
    "ExecuteTime": {
     "end_time": "2024-10-04T19:37:15.898382Z",
     "start_time": "2024-10-04T19:37:15.894954Z"
    }
   },
   "id": "b52f9769ad05a205",
   "execution_count": 106
  },
  {
   "cell_type": "code",
   "outputs": [],
   "source": [
    "citation = citation_generator(ref_id, llm_answer)"
   ],
   "metadata": {
    "collapsed": false,
    "ExecuteTime": {
     "end_time": "2024-10-04T19:37:15.941916Z",
     "start_time": "2024-10-04T19:37:15.899377Z"
    }
   },
   "id": "6abf6061029966d4",
   "execution_count": 107
  },
  {
   "cell_type": "code",
   "outputs": [
    {
     "data": {
      "text/plain": "' **Document Title**: AI app manager [Skip To Main Content](#) AccountSettings --- Logout * placeholder AccountSettings --- Logout Filter: * All Files Submit Search You are here: -  **Header 1**: [AI app manager A page where you can view, start, stop, schedule, update, or upload Blue Planet and user\\\\-created AI apps.](#) -  **language**: en-us -  **source**: https://10.186.34.99/uaa-ui/webhelp/WebHelp/AI_Apps/AIApps.htm -  **title**: AI app manager - '"
     },
     "execution_count": 108,
     "metadata": {},
     "output_type": "execute_result"
    }
   ],
   "source": [
    "citation"
   ],
   "metadata": {
    "collapsed": false,
    "ExecuteTime": {
     "end_time": "2024-10-04T19:37:15.946474Z",
     "start_time": "2024-10-04T19:37:15.904502Z"
    }
   },
   "id": "ca709cb1ad45b9ef",
   "execution_count": 108
  },
  {
   "cell_type": "code",
   "outputs": [
    {
     "data": {
      "text/plain": "'The AI Apps currently supported by Blue Planet include:\\n\\n1. PM Monitoring App\\n2. Cross Layer Stitching App\\n\\nThese apps can be managed through the AI Studio in the Blue Planet App Bar UI.'"
     },
     "execution_count": 109,
     "metadata": {},
     "output_type": "execute_result"
    }
   ],
   "source": [
    "bot_response"
   ],
   "metadata": {
    "collapsed": false,
    "ExecuteTime": {
     "end_time": "2024-10-04T19:37:15.967465Z",
     "start_time": "2024-10-04T19:37:15.908066Z"
    }
   },
   "id": "6113bb9519f848f3",
   "execution_count": 109
  },
  {
   "cell_type": "code",
   "outputs": [],
   "source": [],
   "metadata": {
    "collapsed": false
   },
   "id": "602f1062c2ea9637"
  }
 ],
 "metadata": {
  "kernelspec": {
   "display_name": "Python 3",
   "language": "python",
   "name": "python3"
  },
  "language_info": {
   "codemirror_mode": {
    "name": "ipython",
    "version": 2
   },
   "file_extension": ".py",
   "mimetype": "text/x-python",
   "name": "python",
   "nbconvert_exporter": "python",
   "pygments_lexer": "ipython2",
   "version": "2.7.6"
  }
 },
 "nbformat": 4,
 "nbformat_minor": 5
}
